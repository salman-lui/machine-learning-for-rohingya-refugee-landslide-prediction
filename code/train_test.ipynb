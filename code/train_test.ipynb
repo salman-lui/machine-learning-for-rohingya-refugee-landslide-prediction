{
 "cells": [
  {
   "cell_type": "markdown",
   "metadata": {},
   "source": [
    "<center>\n",
    "    <font size='4\n",
    "    <strong> Data mining reveals spatial dynamics of global COVID-19 research </strong>\n",
    "    </font>\n",
    "</center>"
   ]
  },
  {
   "cell_type": "markdown",
   "metadata": {},
   "source": [
    "<center>\n",
    "<font size='4'><b>Modelling landslide susceptibility of Cox's Bazar district and Rohingya camps in southeastern Bangladesh through machine learning</b></font><br><br>\n",
    "\n",
    "    \n",
    "</center>"
   ]
  },
  {
   "cell_type": "markdown",
   "metadata": {},
   "source": [
    "#### Data\n",
    "* Cox's Bazar Landslide Inventory Map\n",
    "* Landsat 8 Satellite image (NDVI, NDWI, Landuse)\n",
    "* DEM (Elevation, Slope Aspect, Curvature)\n",
    "* Soil Type\n",
    "* Soil Texture\n",
    "* Soil Permeability"
   ]
  },
  {
   "cell_type": "markdown",
   "metadata": {},
   "source": [
    "#### Import packages and data"
   ]
  },
  {
   "cell_type": "code",
   "execution_count": 14,
   "metadata": {},
   "outputs": [],
   "source": [
    "import os\n",
    "import numpy as np\n",
    "import pandas as pd\n",
    "import matplotlib.pyplot as plt"
   ]
  },
  {
   "cell_type": "code",
   "execution_count": 15,
   "metadata": {},
   "outputs": [],
   "source": [
    "# Import data\n",
    "df = pd.read_csv(os.path.join('..','data','Landslide_Data.csv'))"
   ]
  },
  {
   "cell_type": "code",
   "execution_count": 16,
   "metadata": {},
   "outputs": [
    {
     "data": {
      "text/html": [
       "<div>\n",
       "<style scoped>\n",
       "    .dataframe tbody tr th:only-of-type {\n",
       "        vertical-align: middle;\n",
       "    }\n",
       "\n",
       "    .dataframe tbody tr th {\n",
       "        vertical-align: top;\n",
       "    }\n",
       "\n",
       "    .dataframe thead th {\n",
       "        text-align: right;\n",
       "    }\n",
       "</style>\n",
       "<table border=\"1\" class=\"dataframe\">\n",
       "  <thead>\n",
       "    <tr style=\"text-align: right;\">\n",
       "      <th></th>\n",
       "      <th>OBJECTID</th>\n",
       "      <th>Landslide</th>\n",
       "      <th>Aspect</th>\n",
       "      <th>Curvature</th>\n",
       "      <th>Elevation</th>\n",
       "      <th>Geology</th>\n",
       "      <th>LULC_2020</th>\n",
       "      <th>NDVI</th>\n",
       "      <th>Road_dist</th>\n",
       "      <th>Slope</th>\n",
       "      <th>SoilTexture</th>\n",
       "      <th>SoilType</th>\n",
       "      <th>SPI</th>\n",
       "      <th>Stream_dist</th>\n",
       "    </tr>\n",
       "  </thead>\n",
       "  <tbody>\n",
       "    <tr>\n",
       "      <th>0</th>\n",
       "      <td>1</td>\n",
       "      <td>1</td>\n",
       "      <td>190.491470</td>\n",
       "      <td>-0.222222</td>\n",
       "      <td>36</td>\n",
       "      <td>7</td>\n",
       "      <td>2</td>\n",
       "      <td>0.263359</td>\n",
       "      <td>381.837677</td>\n",
       "      <td>19.304520</td>\n",
       "      <td>21</td>\n",
       "      <td>4</td>\n",
       "      <td>-0.370848</td>\n",
       "      <td>67.082039</td>\n",
       "    </tr>\n",
       "    <tr>\n",
       "      <th>1</th>\n",
       "      <td>2</td>\n",
       "      <td>1</td>\n",
       "      <td>205.709961</td>\n",
       "      <td>0.666667</td>\n",
       "      <td>43</td>\n",
       "      <td>7</td>\n",
       "      <td>2</td>\n",
       "      <td>0.286868</td>\n",
       "      <td>366.196655</td>\n",
       "      <td>19.526470</td>\n",
       "      <td>21</td>\n",
       "      <td>4</td>\n",
       "      <td>0.409195</td>\n",
       "      <td>67.082039</td>\n",
       "    </tr>\n",
       "    <tr>\n",
       "      <th>2</th>\n",
       "      <td>3</td>\n",
       "      <td>1</td>\n",
       "      <td>236.040939</td>\n",
       "      <td>0.333333</td>\n",
       "      <td>89</td>\n",
       "      <td>7</td>\n",
       "      <td>2</td>\n",
       "      <td>0.291367</td>\n",
       "      <td>540.832703</td>\n",
       "      <td>12.309163</td>\n",
       "      <td>3</td>\n",
       "      <td>1</td>\n",
       "      <td>-1.394833</td>\n",
       "      <td>240.000000</td>\n",
       "    </tr>\n",
       "    <tr>\n",
       "      <th>3</th>\n",
       "      <td>4</td>\n",
       "      <td>1</td>\n",
       "      <td>187.943466</td>\n",
       "      <td>0.444444</td>\n",
       "      <td>106</td>\n",
       "      <td>7</td>\n",
       "      <td>2</td>\n",
       "      <td>0.361999</td>\n",
       "      <td>600.000000</td>\n",
       "      <td>20.940453</td>\n",
       "      <td>3</td>\n",
       "      <td>1</td>\n",
       "      <td>-0.318317</td>\n",
       "      <td>283.019440</td>\n",
       "    </tr>\n",
       "    <tr>\n",
       "      <th>4</th>\n",
       "      <td>5</td>\n",
       "      <td>1</td>\n",
       "      <td>230.262390</td>\n",
       "      <td>0.111111</td>\n",
       "      <td>160</td>\n",
       "      <td>7</td>\n",
       "      <td>2</td>\n",
       "      <td>0.309558</td>\n",
       "      <td>816.088257</td>\n",
       "      <td>24.932274</td>\n",
       "      <td>3</td>\n",
       "      <td>1</td>\n",
       "      <td>-0.101314</td>\n",
       "      <td>284.604981</td>\n",
       "    </tr>\n",
       "  </tbody>\n",
       "</table>\n",
       "</div>"
      ],
      "text/plain": [
       "   OBJECTID  Landslide      Aspect  Curvature  Elevation  Geology  LULC_2020  \\\n",
       "0         1          1  190.491470  -0.222222         36        7          2   \n",
       "1         2          1  205.709961   0.666667         43        7          2   \n",
       "2         3          1  236.040939   0.333333         89        7          2   \n",
       "3         4          1  187.943466   0.444444        106        7          2   \n",
       "4         5          1  230.262390   0.111111        160        7          2   \n",
       "\n",
       "       NDVI   Road_dist      Slope  SoilTexture  SoilType       SPI  \\\n",
       "0  0.263359  381.837677  19.304520           21         4 -0.370848   \n",
       "1  0.286868  366.196655  19.526470           21         4  0.409195   \n",
       "2  0.291367  540.832703  12.309163            3         1 -1.394833   \n",
       "3  0.361999  600.000000  20.940453            3         1 -0.318317   \n",
       "4  0.309558  816.088257  24.932274            3         1 -0.101314   \n",
       "\n",
       "   Stream_dist  \n",
       "0    67.082039  \n",
       "1    67.082039  \n",
       "2   240.000000  \n",
       "3   283.019440  \n",
       "4   284.604981  "
      ]
     },
     "execution_count": 16,
     "metadata": {},
     "output_type": "execute_result"
    }
   ],
   "source": [
    "df.head(5)"
   ]
  },
  {
   "cell_type": "code",
   "execution_count": 32,
   "metadata": {},
   "outputs": [
    {
     "name": "stdout",
     "output_type": "stream",
     "text": [
      "11\n"
     ]
    }
   ],
   "source": [
    "print(len(df['Geology'].unique()))"
   ]
  },
  {
   "cell_type": "code",
   "execution_count": 19,
   "metadata": {},
   "outputs": [
    {
     "data": {
      "text/plain": [
       "(1262, 14)"
      ]
     },
     "execution_count": 19,
     "metadata": {},
     "output_type": "execute_result"
    }
   ],
   "source": [
    "df.shape"
   ]
  },
  {
   "cell_type": "markdown",
   "metadata": {},
   "source": [
    "#### Slice relevant columns"
   ]
  },
  {
   "cell_type": "code",
   "execution_count": 20,
   "metadata": {},
   "outputs": [
    {
     "data": {
      "text/html": [
       "<div>\n",
       "<style scoped>\n",
       "    .dataframe tbody tr th:only-of-type {\n",
       "        vertical-align: middle;\n",
       "    }\n",
       "\n",
       "    .dataframe tbody tr th {\n",
       "        vertical-align: top;\n",
       "    }\n",
       "\n",
       "    .dataframe thead th {\n",
       "        text-align: right;\n",
       "    }\n",
       "</style>\n",
       "<table border=\"1\" class=\"dataframe\">\n",
       "  <thead>\n",
       "    <tr style=\"text-align: right;\">\n",
       "      <th></th>\n",
       "      <th>Landslide</th>\n",
       "      <th>Aspect</th>\n",
       "      <th>Curvature</th>\n",
       "      <th>Elevation</th>\n",
       "      <th>Geology</th>\n",
       "      <th>LULC_2020</th>\n",
       "      <th>NDVI</th>\n",
       "      <th>Road_dist</th>\n",
       "      <th>Slope</th>\n",
       "      <th>SoilTexture</th>\n",
       "      <th>SoilType</th>\n",
       "      <th>SPI</th>\n",
       "      <th>Stream_dist</th>\n",
       "    </tr>\n",
       "  </thead>\n",
       "  <tbody>\n",
       "    <tr>\n",
       "      <th>0</th>\n",
       "      <td>1</td>\n",
       "      <td>190.491470</td>\n",
       "      <td>-0.222222</td>\n",
       "      <td>36</td>\n",
       "      <td>7</td>\n",
       "      <td>2</td>\n",
       "      <td>0.263359</td>\n",
       "      <td>381.837677</td>\n",
       "      <td>19.304520</td>\n",
       "      <td>21</td>\n",
       "      <td>4</td>\n",
       "      <td>-0.370848</td>\n",
       "      <td>67.082039</td>\n",
       "    </tr>\n",
       "    <tr>\n",
       "      <th>1</th>\n",
       "      <td>1</td>\n",
       "      <td>205.709961</td>\n",
       "      <td>0.666667</td>\n",
       "      <td>43</td>\n",
       "      <td>7</td>\n",
       "      <td>2</td>\n",
       "      <td>0.286868</td>\n",
       "      <td>366.196655</td>\n",
       "      <td>19.526470</td>\n",
       "      <td>21</td>\n",
       "      <td>4</td>\n",
       "      <td>0.409195</td>\n",
       "      <td>67.082039</td>\n",
       "    </tr>\n",
       "    <tr>\n",
       "      <th>2</th>\n",
       "      <td>1</td>\n",
       "      <td>236.040939</td>\n",
       "      <td>0.333333</td>\n",
       "      <td>89</td>\n",
       "      <td>7</td>\n",
       "      <td>2</td>\n",
       "      <td>0.291367</td>\n",
       "      <td>540.832703</td>\n",
       "      <td>12.309163</td>\n",
       "      <td>3</td>\n",
       "      <td>1</td>\n",
       "      <td>-1.394833</td>\n",
       "      <td>240.000000</td>\n",
       "    </tr>\n",
       "    <tr>\n",
       "      <th>3</th>\n",
       "      <td>1</td>\n",
       "      <td>187.943466</td>\n",
       "      <td>0.444444</td>\n",
       "      <td>106</td>\n",
       "      <td>7</td>\n",
       "      <td>2</td>\n",
       "      <td>0.361999</td>\n",
       "      <td>600.000000</td>\n",
       "      <td>20.940453</td>\n",
       "      <td>3</td>\n",
       "      <td>1</td>\n",
       "      <td>-0.318317</td>\n",
       "      <td>283.019440</td>\n",
       "    </tr>\n",
       "    <tr>\n",
       "      <th>4</th>\n",
       "      <td>1</td>\n",
       "      <td>230.262390</td>\n",
       "      <td>0.111111</td>\n",
       "      <td>160</td>\n",
       "      <td>7</td>\n",
       "      <td>2</td>\n",
       "      <td>0.309558</td>\n",
       "      <td>816.088257</td>\n",
       "      <td>24.932274</td>\n",
       "      <td>3</td>\n",
       "      <td>1</td>\n",
       "      <td>-0.101314</td>\n",
       "      <td>284.604981</td>\n",
       "    </tr>\n",
       "    <tr>\n",
       "      <th>...</th>\n",
       "      <td>...</td>\n",
       "      <td>...</td>\n",
       "      <td>...</td>\n",
       "      <td>...</td>\n",
       "      <td>...</td>\n",
       "      <td>...</td>\n",
       "      <td>...</td>\n",
       "      <td>...</td>\n",
       "      <td>...</td>\n",
       "      <td>...</td>\n",
       "      <td>...</td>\n",
       "      <td>...</td>\n",
       "      <td>...</td>\n",
       "    </tr>\n",
       "    <tr>\n",
       "      <th>1257</th>\n",
       "      <td>0</td>\n",
       "      <td>0.000000</td>\n",
       "      <td>-0.111111</td>\n",
       "      <td>11</td>\n",
       "      <td>1</td>\n",
       "      <td>0</td>\n",
       "      <td>0.138290</td>\n",
       "      <td>782.304260</td>\n",
       "      <td>1.322716</td>\n",
       "      <td>3</td>\n",
       "      <td>1</td>\n",
       "      <td>-0.943135</td>\n",
       "      <td>60.000000</td>\n",
       "    </tr>\n",
       "    <tr>\n",
       "      <th>1258</th>\n",
       "      <td>0</td>\n",
       "      <td>-1.000000</td>\n",
       "      <td>-0.000000</td>\n",
       "      <td>5</td>\n",
       "      <td>1</td>\n",
       "      <td>0</td>\n",
       "      <td>0.107780</td>\n",
       "      <td>540.832703</td>\n",
       "      <td>0.925643</td>\n",
       "      <td>3</td>\n",
       "      <td>1</td>\n",
       "      <td>-2.145573</td>\n",
       "      <td>0.000000</td>\n",
       "    </tr>\n",
       "    <tr>\n",
       "      <th>1259</th>\n",
       "      <td>0</td>\n",
       "      <td>305.537689</td>\n",
       "      <td>-0.111111</td>\n",
       "      <td>5</td>\n",
       "      <td>9</td>\n",
       "      <td>4</td>\n",
       "      <td>0.191957</td>\n",
       "      <td>1142.365967</td>\n",
       "      <td>2.622850</td>\n",
       "      <td>3</td>\n",
       "      <td>1</td>\n",
       "      <td>-0.526580</td>\n",
       "      <td>60.000000</td>\n",
       "    </tr>\n",
       "    <tr>\n",
       "      <th>1260</th>\n",
       "      <td>0</td>\n",
       "      <td>135.000000</td>\n",
       "      <td>-0.000000</td>\n",
       "      <td>5</td>\n",
       "      <td>9</td>\n",
       "      <td>2</td>\n",
       "      <td>0.215087</td>\n",
       "      <td>2544.346680</td>\n",
       "      <td>0.383246</td>\n",
       "      <td>5</td>\n",
       "      <td>2</td>\n",
       "      <td>-11.883438</td>\n",
       "      <td>331.360840</td>\n",
       "    </tr>\n",
       "    <tr>\n",
       "      <th>1261</th>\n",
       "      <td>0</td>\n",
       "      <td>24.443955</td>\n",
       "      <td>-0.222222</td>\n",
       "      <td>8</td>\n",
       "      <td>9</td>\n",
       "      <td>2</td>\n",
       "      <td>0.273165</td>\n",
       "      <td>1176.520264</td>\n",
       "      <td>2.303448</td>\n",
       "      <td>3</td>\n",
       "      <td>1</td>\n",
       "      <td>-2.966303</td>\n",
       "      <td>210.000000</td>\n",
       "    </tr>\n",
       "  </tbody>\n",
       "</table>\n",
       "<p>1262 rows × 13 columns</p>\n",
       "</div>"
      ],
      "text/plain": [
       "      Landslide      Aspect  Curvature  Elevation  Geology  LULC_2020  \\\n",
       "0             1  190.491470  -0.222222         36        7          2   \n",
       "1             1  205.709961   0.666667         43        7          2   \n",
       "2             1  236.040939   0.333333         89        7          2   \n",
       "3             1  187.943466   0.444444        106        7          2   \n",
       "4             1  230.262390   0.111111        160        7          2   \n",
       "...         ...         ...        ...        ...      ...        ...   \n",
       "1257          0    0.000000  -0.111111         11        1          0   \n",
       "1258          0   -1.000000  -0.000000          5        1          0   \n",
       "1259          0  305.537689  -0.111111          5        9          4   \n",
       "1260          0  135.000000  -0.000000          5        9          2   \n",
       "1261          0   24.443955  -0.222222          8        9          2   \n",
       "\n",
       "          NDVI    Road_dist      Slope  SoilTexture  SoilType        SPI  \\\n",
       "0     0.263359   381.837677  19.304520           21         4  -0.370848   \n",
       "1     0.286868   366.196655  19.526470           21         4   0.409195   \n",
       "2     0.291367   540.832703  12.309163            3         1  -1.394833   \n",
       "3     0.361999   600.000000  20.940453            3         1  -0.318317   \n",
       "4     0.309558   816.088257  24.932274            3         1  -0.101314   \n",
       "...        ...          ...        ...          ...       ...        ...   \n",
       "1257  0.138290   782.304260   1.322716            3         1  -0.943135   \n",
       "1258  0.107780   540.832703   0.925643            3         1  -2.145573   \n",
       "1259  0.191957  1142.365967   2.622850            3         1  -0.526580   \n",
       "1260  0.215087  2544.346680   0.383246            5         2 -11.883438   \n",
       "1261  0.273165  1176.520264   2.303448            3         1  -2.966303   \n",
       "\n",
       "      Stream_dist  \n",
       "0       67.082039  \n",
       "1       67.082039  \n",
       "2      240.000000  \n",
       "3      283.019440  \n",
       "4      284.604981  \n",
       "...           ...  \n",
       "1257    60.000000  \n",
       "1258     0.000000  \n",
       "1259    60.000000  \n",
       "1260   331.360840  \n",
       "1261   210.000000  \n",
       "\n",
       "[1262 rows x 13 columns]"
      ]
     },
     "execution_count": 20,
     "metadata": {},
     "output_type": "execute_result"
    }
   ],
   "source": [
    "df = df[df.columns[1:]]\n",
    "df"
   ]
  },
  {
   "cell_type": "code",
   "execution_count": 21,
   "metadata": {},
   "outputs": [],
   "source": [
    "df = df.drop(columns=['SoilTexture','SoilType'])"
   ]
  },
  {
   "cell_type": "code",
   "execution_count": 22,
   "metadata": {},
   "outputs": [
    {
     "data": {
      "text/plain": [
       "(1262, 11)"
      ]
     },
     "execution_count": 22,
     "metadata": {},
     "output_type": "execute_result"
    }
   ],
   "source": [
    "df.shape"
   ]
  },
  {
   "cell_type": "code",
   "execution_count": null,
   "metadata": {},
   "outputs": [],
   "source": []
  },
  {
   "cell_type": "markdown",
   "metadata": {},
   "source": [
    "#### Rearrange columns"
   ]
  },
  {
   "cell_type": "code",
   "execution_count": 23,
   "metadata": {},
   "outputs": [],
   "source": [
    "categorical_variables = ['Geology', 'LULC_2020','Landslide']\n",
    "non_categorical_variables = list(set(df.columns) - set(categorical_variables))\n",
    "\n",
    "# Re-ordering columns to have non-categorical varaibles first\n",
    "order = non_categorical_variables + categorical_variables\n",
    "df = df[order]"
   ]
  },
  {
   "cell_type": "code",
   "execution_count": 24,
   "metadata": {},
   "outputs": [
    {
     "data": {
      "text/html": [
       "<div>\n",
       "<style scoped>\n",
       "    .dataframe tbody tr th:only-of-type {\n",
       "        vertical-align: middle;\n",
       "    }\n",
       "\n",
       "    .dataframe tbody tr th {\n",
       "        vertical-align: top;\n",
       "    }\n",
       "\n",
       "    .dataframe thead th {\n",
       "        text-align: right;\n",
       "    }\n",
       "</style>\n",
       "<table border=\"1\" class=\"dataframe\">\n",
       "  <thead>\n",
       "    <tr style=\"text-align: right;\">\n",
       "      <th></th>\n",
       "      <th>SPI</th>\n",
       "      <th>Aspect</th>\n",
       "      <th>Stream_dist</th>\n",
       "      <th>Elevation</th>\n",
       "      <th>Curvature</th>\n",
       "      <th>Slope</th>\n",
       "      <th>Road_dist</th>\n",
       "      <th>NDVI</th>\n",
       "      <th>Geology</th>\n",
       "      <th>LULC_2020</th>\n",
       "      <th>Landslide</th>\n",
       "    </tr>\n",
       "  </thead>\n",
       "  <tbody>\n",
       "    <tr>\n",
       "      <th>0</th>\n",
       "      <td>-0.370848</td>\n",
       "      <td>190.491470</td>\n",
       "      <td>67.082039</td>\n",
       "      <td>36</td>\n",
       "      <td>-0.222222</td>\n",
       "      <td>19.304520</td>\n",
       "      <td>381.837677</td>\n",
       "      <td>0.263359</td>\n",
       "      <td>7</td>\n",
       "      <td>2</td>\n",
       "      <td>1</td>\n",
       "    </tr>\n",
       "    <tr>\n",
       "      <th>1</th>\n",
       "      <td>0.409195</td>\n",
       "      <td>205.709961</td>\n",
       "      <td>67.082039</td>\n",
       "      <td>43</td>\n",
       "      <td>0.666667</td>\n",
       "      <td>19.526470</td>\n",
       "      <td>366.196655</td>\n",
       "      <td>0.286868</td>\n",
       "      <td>7</td>\n",
       "      <td>2</td>\n",
       "      <td>1</td>\n",
       "    </tr>\n",
       "    <tr>\n",
       "      <th>2</th>\n",
       "      <td>-1.394833</td>\n",
       "      <td>236.040939</td>\n",
       "      <td>240.000000</td>\n",
       "      <td>89</td>\n",
       "      <td>0.333333</td>\n",
       "      <td>12.309163</td>\n",
       "      <td>540.832703</td>\n",
       "      <td>0.291367</td>\n",
       "      <td>7</td>\n",
       "      <td>2</td>\n",
       "      <td>1</td>\n",
       "    </tr>\n",
       "    <tr>\n",
       "      <th>3</th>\n",
       "      <td>-0.318317</td>\n",
       "      <td>187.943466</td>\n",
       "      <td>283.019440</td>\n",
       "      <td>106</td>\n",
       "      <td>0.444444</td>\n",
       "      <td>20.940453</td>\n",
       "      <td>600.000000</td>\n",
       "      <td>0.361999</td>\n",
       "      <td>7</td>\n",
       "      <td>2</td>\n",
       "      <td>1</td>\n",
       "    </tr>\n",
       "    <tr>\n",
       "      <th>4</th>\n",
       "      <td>-0.101314</td>\n",
       "      <td>230.262390</td>\n",
       "      <td>284.604981</td>\n",
       "      <td>160</td>\n",
       "      <td>0.111111</td>\n",
       "      <td>24.932274</td>\n",
       "      <td>816.088257</td>\n",
       "      <td>0.309558</td>\n",
       "      <td>7</td>\n",
       "      <td>2</td>\n",
       "      <td>1</td>\n",
       "    </tr>\n",
       "    <tr>\n",
       "      <th>...</th>\n",
       "      <td>...</td>\n",
       "      <td>...</td>\n",
       "      <td>...</td>\n",
       "      <td>...</td>\n",
       "      <td>...</td>\n",
       "      <td>...</td>\n",
       "      <td>...</td>\n",
       "      <td>...</td>\n",
       "      <td>...</td>\n",
       "      <td>...</td>\n",
       "      <td>...</td>\n",
       "    </tr>\n",
       "    <tr>\n",
       "      <th>1257</th>\n",
       "      <td>-0.943135</td>\n",
       "      <td>0.000000</td>\n",
       "      <td>60.000000</td>\n",
       "      <td>11</td>\n",
       "      <td>-0.111111</td>\n",
       "      <td>1.322716</td>\n",
       "      <td>782.304260</td>\n",
       "      <td>0.138290</td>\n",
       "      <td>1</td>\n",
       "      <td>0</td>\n",
       "      <td>0</td>\n",
       "    </tr>\n",
       "    <tr>\n",
       "      <th>1258</th>\n",
       "      <td>-2.145573</td>\n",
       "      <td>-1.000000</td>\n",
       "      <td>0.000000</td>\n",
       "      <td>5</td>\n",
       "      <td>-0.000000</td>\n",
       "      <td>0.925643</td>\n",
       "      <td>540.832703</td>\n",
       "      <td>0.107780</td>\n",
       "      <td>1</td>\n",
       "      <td>0</td>\n",
       "      <td>0</td>\n",
       "    </tr>\n",
       "    <tr>\n",
       "      <th>1259</th>\n",
       "      <td>-0.526580</td>\n",
       "      <td>305.537689</td>\n",
       "      <td>60.000000</td>\n",
       "      <td>5</td>\n",
       "      <td>-0.111111</td>\n",
       "      <td>2.622850</td>\n",
       "      <td>1142.365967</td>\n",
       "      <td>0.191957</td>\n",
       "      <td>9</td>\n",
       "      <td>4</td>\n",
       "      <td>0</td>\n",
       "    </tr>\n",
       "    <tr>\n",
       "      <th>1260</th>\n",
       "      <td>-11.883438</td>\n",
       "      <td>135.000000</td>\n",
       "      <td>331.360840</td>\n",
       "      <td>5</td>\n",
       "      <td>-0.000000</td>\n",
       "      <td>0.383246</td>\n",
       "      <td>2544.346680</td>\n",
       "      <td>0.215087</td>\n",
       "      <td>9</td>\n",
       "      <td>2</td>\n",
       "      <td>0</td>\n",
       "    </tr>\n",
       "    <tr>\n",
       "      <th>1261</th>\n",
       "      <td>-2.966303</td>\n",
       "      <td>24.443955</td>\n",
       "      <td>210.000000</td>\n",
       "      <td>8</td>\n",
       "      <td>-0.222222</td>\n",
       "      <td>2.303448</td>\n",
       "      <td>1176.520264</td>\n",
       "      <td>0.273165</td>\n",
       "      <td>9</td>\n",
       "      <td>2</td>\n",
       "      <td>0</td>\n",
       "    </tr>\n",
       "  </tbody>\n",
       "</table>\n",
       "<p>1262 rows × 11 columns</p>\n",
       "</div>"
      ],
      "text/plain": [
       "            SPI      Aspect  Stream_dist  Elevation  Curvature      Slope  \\\n",
       "0     -0.370848  190.491470    67.082039         36  -0.222222  19.304520   \n",
       "1      0.409195  205.709961    67.082039         43   0.666667  19.526470   \n",
       "2     -1.394833  236.040939   240.000000         89   0.333333  12.309163   \n",
       "3     -0.318317  187.943466   283.019440        106   0.444444  20.940453   \n",
       "4     -0.101314  230.262390   284.604981        160   0.111111  24.932274   \n",
       "...         ...         ...          ...        ...        ...        ...   \n",
       "1257  -0.943135    0.000000    60.000000         11  -0.111111   1.322716   \n",
       "1258  -2.145573   -1.000000     0.000000          5  -0.000000   0.925643   \n",
       "1259  -0.526580  305.537689    60.000000          5  -0.111111   2.622850   \n",
       "1260 -11.883438  135.000000   331.360840          5  -0.000000   0.383246   \n",
       "1261  -2.966303   24.443955   210.000000          8  -0.222222   2.303448   \n",
       "\n",
       "        Road_dist      NDVI  Geology  LULC_2020  Landslide  \n",
       "0      381.837677  0.263359        7          2          1  \n",
       "1      366.196655  0.286868        7          2          1  \n",
       "2      540.832703  0.291367        7          2          1  \n",
       "3      600.000000  0.361999        7          2          1  \n",
       "4      816.088257  0.309558        7          2          1  \n",
       "...           ...       ...      ...        ...        ...  \n",
       "1257   782.304260  0.138290        1          0          0  \n",
       "1258   540.832703  0.107780        1          0          0  \n",
       "1259  1142.365967  0.191957        9          4          0  \n",
       "1260  2544.346680  0.215087        9          2          0  \n",
       "1261  1176.520264  0.273165        9          2          0  \n",
       "\n",
       "[1262 rows x 11 columns]"
      ]
     },
     "execution_count": 24,
     "metadata": {},
     "output_type": "execute_result"
    }
   ],
   "source": [
    "df"
   ]
  },
  {
   "cell_type": "code",
   "execution_count": 25,
   "metadata": {},
   "outputs": [
    {
     "data": {
      "text/plain": [
       "Index(['SPI', 'Aspect', 'Stream_dist', 'Elevation', 'Curvature', 'Slope',\n",
       "       'Road_dist', 'NDVI', 'Geology', 'LULC_2020', 'Landslide'],\n",
       "      dtype='object')"
      ]
     },
     "execution_count": 25,
     "metadata": {},
     "output_type": "execute_result"
    }
   ],
   "source": [
    "df.columns"
   ]
  },
  {
   "cell_type": "markdown",
   "metadata": {},
   "source": [
    "#### Calculate information gain (IG)"
   ]
  },
  {
   "cell_type": "code",
   "execution_count": 26,
   "metadata": {},
   "outputs": [],
   "source": [
    "features = df.columns[:-1]\n",
    "\n",
    "# Separating out the features\n",
    "X = df.loc[:, features].values\n",
    "\n",
    "# Separating out the target\n",
    "y = df.loc[:,['Landslide']].values"
   ]
  },
  {
   "cell_type": "code",
   "execution_count": 27,
   "metadata": {},
   "outputs": [],
   "source": [
    "from sklearn.feature_selection import mutual_info_classif\n",
    "\n",
    "res = dict(zip(features,\n",
    "               mutual_info_classif(X, y.ravel(), discrete_features=[-1, -2, -3, -4])\n",
    "               ))"
   ]
  },
  {
   "cell_type": "code",
   "execution_count": 28,
   "metadata": {},
   "outputs": [
    {
     "data": {
      "text/plain": [
       "{'NDVI': 0.6912359312554455,\n",
       " 'Road_dist': 0.4813203963928374,\n",
       " 'Slope': 0.21539145713957764,\n",
       " 'Elevation': 0.20030275855140456,\n",
       " 'Geology': 0.1775893308028033,\n",
       " 'LULC_2020': 0.153172928869873,\n",
       " 'SPI': 0.1507271023285528,\n",
       " 'Aspect': 0.07968409650874819,\n",
       " 'Curvature': 0.042681840899504,\n",
       " 'Stream_dist': 0.03607577792143535}"
      ]
     },
     "execution_count": 28,
     "metadata": {},
     "output_type": "execute_result"
    }
   ],
   "source": [
    "res = {k: v for k, v in sorted(res.items(), key=lambda item: item[1], reverse=True)}\n",
    "res"
   ]
  },
  {
   "cell_type": "markdown",
   "metadata": {},
   "source": [
    "#### One hot encode categorical variables"
   ]
  },
  {
   "cell_type": "code",
   "execution_count": 29,
   "metadata": {},
   "outputs": [],
   "source": [
    "from sklearn.preprocessing import OneHotEncoder\n",
    "\n",
    "# Add numerical feature names to final feature name list\n",
    "final_feature_names = []\n",
    "final_feature_names += non_categorical_variables\n",
    "\n",
    "# List of categorical feature names\n",
    "categorical_features = ['Geology', 'LULC_2020']\n",
    "\n",
    "# Copy numerical features\n",
    "data = df[non_categorical_variables]\n",
    "\n",
    "# Copy one-hot encoded categorical features\n",
    "for i in categorical_features:\n",
    "    encoded = OneHotEncoder(sparse=False).fit_transform(df[i].values.reshape(df.shape[0],1))\n",
    "    cols = [i+'_'+str(j) for j in range (1, encoded.shape[1]+1)]\n",
    "    data = pd.concat([data, pd.DataFrame(encoded, columns=cols)], axis = 1)\n",
    "\n",
    "# Copy labels\n",
    "data = pd.concat([data, df[['Landslide']]], axis = 1)\n"
   ]
  },
  {
   "cell_type": "code",
   "execution_count": 30,
   "metadata": {},
   "outputs": [
    {
     "data": {
      "text/html": [
       "<div>\n",
       "<style scoped>\n",
       "    .dataframe tbody tr th:only-of-type {\n",
       "        vertical-align: middle;\n",
       "    }\n",
       "\n",
       "    .dataframe tbody tr th {\n",
       "        vertical-align: top;\n",
       "    }\n",
       "\n",
       "    .dataframe thead th {\n",
       "        text-align: right;\n",
       "    }\n",
       "</style>\n",
       "<table border=\"1\" class=\"dataframe\">\n",
       "  <thead>\n",
       "    <tr style=\"text-align: right;\">\n",
       "      <th></th>\n",
       "      <th>SPI</th>\n",
       "      <th>Aspect</th>\n",
       "      <th>Stream_dist</th>\n",
       "      <th>Elevation</th>\n",
       "      <th>Curvature</th>\n",
       "      <th>Slope</th>\n",
       "      <th>Road_dist</th>\n",
       "      <th>NDVI</th>\n",
       "      <th>Geology_1</th>\n",
       "      <th>Geology_2</th>\n",
       "      <th>...</th>\n",
       "      <th>Geology_7</th>\n",
       "      <th>Geology_8</th>\n",
       "      <th>Geology_9</th>\n",
       "      <th>Geology_10</th>\n",
       "      <th>Geology_11</th>\n",
       "      <th>LULC_2020_1</th>\n",
       "      <th>LULC_2020_2</th>\n",
       "      <th>LULC_2020_3</th>\n",
       "      <th>LULC_2020_4</th>\n",
       "      <th>Landslide</th>\n",
       "    </tr>\n",
       "  </thead>\n",
       "  <tbody>\n",
       "    <tr>\n",
       "      <th>0</th>\n",
       "      <td>-0.370848</td>\n",
       "      <td>190.491470</td>\n",
       "      <td>67.082039</td>\n",
       "      <td>36</td>\n",
       "      <td>-0.222222</td>\n",
       "      <td>19.304520</td>\n",
       "      <td>381.837677</td>\n",
       "      <td>0.263359</td>\n",
       "      <td>0.0</td>\n",
       "      <td>0.0</td>\n",
       "      <td>...</td>\n",
       "      <td>1.0</td>\n",
       "      <td>0.0</td>\n",
       "      <td>0.0</td>\n",
       "      <td>0.0</td>\n",
       "      <td>0.0</td>\n",
       "      <td>0.0</td>\n",
       "      <td>1.0</td>\n",
       "      <td>0.0</td>\n",
       "      <td>0.0</td>\n",
       "      <td>1</td>\n",
       "    </tr>\n",
       "    <tr>\n",
       "      <th>1</th>\n",
       "      <td>0.409195</td>\n",
       "      <td>205.709961</td>\n",
       "      <td>67.082039</td>\n",
       "      <td>43</td>\n",
       "      <td>0.666667</td>\n",
       "      <td>19.526470</td>\n",
       "      <td>366.196655</td>\n",
       "      <td>0.286868</td>\n",
       "      <td>0.0</td>\n",
       "      <td>0.0</td>\n",
       "      <td>...</td>\n",
       "      <td>1.0</td>\n",
       "      <td>0.0</td>\n",
       "      <td>0.0</td>\n",
       "      <td>0.0</td>\n",
       "      <td>0.0</td>\n",
       "      <td>0.0</td>\n",
       "      <td>1.0</td>\n",
       "      <td>0.0</td>\n",
       "      <td>0.0</td>\n",
       "      <td>1</td>\n",
       "    </tr>\n",
       "    <tr>\n",
       "      <th>2</th>\n",
       "      <td>-1.394833</td>\n",
       "      <td>236.040939</td>\n",
       "      <td>240.000000</td>\n",
       "      <td>89</td>\n",
       "      <td>0.333333</td>\n",
       "      <td>12.309163</td>\n",
       "      <td>540.832703</td>\n",
       "      <td>0.291367</td>\n",
       "      <td>0.0</td>\n",
       "      <td>0.0</td>\n",
       "      <td>...</td>\n",
       "      <td>1.0</td>\n",
       "      <td>0.0</td>\n",
       "      <td>0.0</td>\n",
       "      <td>0.0</td>\n",
       "      <td>0.0</td>\n",
       "      <td>0.0</td>\n",
       "      <td>1.0</td>\n",
       "      <td>0.0</td>\n",
       "      <td>0.0</td>\n",
       "      <td>1</td>\n",
       "    </tr>\n",
       "    <tr>\n",
       "      <th>3</th>\n",
       "      <td>-0.318317</td>\n",
       "      <td>187.943466</td>\n",
       "      <td>283.019440</td>\n",
       "      <td>106</td>\n",
       "      <td>0.444444</td>\n",
       "      <td>20.940453</td>\n",
       "      <td>600.000000</td>\n",
       "      <td>0.361999</td>\n",
       "      <td>0.0</td>\n",
       "      <td>0.0</td>\n",
       "      <td>...</td>\n",
       "      <td>1.0</td>\n",
       "      <td>0.0</td>\n",
       "      <td>0.0</td>\n",
       "      <td>0.0</td>\n",
       "      <td>0.0</td>\n",
       "      <td>0.0</td>\n",
       "      <td>1.0</td>\n",
       "      <td>0.0</td>\n",
       "      <td>0.0</td>\n",
       "      <td>1</td>\n",
       "    </tr>\n",
       "    <tr>\n",
       "      <th>4</th>\n",
       "      <td>-0.101314</td>\n",
       "      <td>230.262390</td>\n",
       "      <td>284.604981</td>\n",
       "      <td>160</td>\n",
       "      <td>0.111111</td>\n",
       "      <td>24.932274</td>\n",
       "      <td>816.088257</td>\n",
       "      <td>0.309558</td>\n",
       "      <td>0.0</td>\n",
       "      <td>0.0</td>\n",
       "      <td>...</td>\n",
       "      <td>1.0</td>\n",
       "      <td>0.0</td>\n",
       "      <td>0.0</td>\n",
       "      <td>0.0</td>\n",
       "      <td>0.0</td>\n",
       "      <td>0.0</td>\n",
       "      <td>1.0</td>\n",
       "      <td>0.0</td>\n",
       "      <td>0.0</td>\n",
       "      <td>1</td>\n",
       "    </tr>\n",
       "    <tr>\n",
       "      <th>...</th>\n",
       "      <td>...</td>\n",
       "      <td>...</td>\n",
       "      <td>...</td>\n",
       "      <td>...</td>\n",
       "      <td>...</td>\n",
       "      <td>...</td>\n",
       "      <td>...</td>\n",
       "      <td>...</td>\n",
       "      <td>...</td>\n",
       "      <td>...</td>\n",
       "      <td>...</td>\n",
       "      <td>...</td>\n",
       "      <td>...</td>\n",
       "      <td>...</td>\n",
       "      <td>...</td>\n",
       "      <td>...</td>\n",
       "      <td>...</td>\n",
       "      <td>...</td>\n",
       "      <td>...</td>\n",
       "      <td>...</td>\n",
       "      <td>...</td>\n",
       "    </tr>\n",
       "    <tr>\n",
       "      <th>1257</th>\n",
       "      <td>-0.943135</td>\n",
       "      <td>0.000000</td>\n",
       "      <td>60.000000</td>\n",
       "      <td>11</td>\n",
       "      <td>-0.111111</td>\n",
       "      <td>1.322716</td>\n",
       "      <td>782.304260</td>\n",
       "      <td>0.138290</td>\n",
       "      <td>1.0</td>\n",
       "      <td>0.0</td>\n",
       "      <td>...</td>\n",
       "      <td>0.0</td>\n",
       "      <td>0.0</td>\n",
       "      <td>0.0</td>\n",
       "      <td>0.0</td>\n",
       "      <td>0.0</td>\n",
       "      <td>1.0</td>\n",
       "      <td>0.0</td>\n",
       "      <td>0.0</td>\n",
       "      <td>0.0</td>\n",
       "      <td>0</td>\n",
       "    </tr>\n",
       "    <tr>\n",
       "      <th>1258</th>\n",
       "      <td>-2.145573</td>\n",
       "      <td>-1.000000</td>\n",
       "      <td>0.000000</td>\n",
       "      <td>5</td>\n",
       "      <td>-0.000000</td>\n",
       "      <td>0.925643</td>\n",
       "      <td>540.832703</td>\n",
       "      <td>0.107780</td>\n",
       "      <td>1.0</td>\n",
       "      <td>0.0</td>\n",
       "      <td>...</td>\n",
       "      <td>0.0</td>\n",
       "      <td>0.0</td>\n",
       "      <td>0.0</td>\n",
       "      <td>0.0</td>\n",
       "      <td>0.0</td>\n",
       "      <td>1.0</td>\n",
       "      <td>0.0</td>\n",
       "      <td>0.0</td>\n",
       "      <td>0.0</td>\n",
       "      <td>0</td>\n",
       "    </tr>\n",
       "    <tr>\n",
       "      <th>1259</th>\n",
       "      <td>-0.526580</td>\n",
       "      <td>305.537689</td>\n",
       "      <td>60.000000</td>\n",
       "      <td>5</td>\n",
       "      <td>-0.111111</td>\n",
       "      <td>2.622850</td>\n",
       "      <td>1142.365967</td>\n",
       "      <td>0.191957</td>\n",
       "      <td>0.0</td>\n",
       "      <td>0.0</td>\n",
       "      <td>...</td>\n",
       "      <td>0.0</td>\n",
       "      <td>1.0</td>\n",
       "      <td>0.0</td>\n",
       "      <td>0.0</td>\n",
       "      <td>0.0</td>\n",
       "      <td>0.0</td>\n",
       "      <td>0.0</td>\n",
       "      <td>0.0</td>\n",
       "      <td>1.0</td>\n",
       "      <td>0</td>\n",
       "    </tr>\n",
       "    <tr>\n",
       "      <th>1260</th>\n",
       "      <td>-11.883438</td>\n",
       "      <td>135.000000</td>\n",
       "      <td>331.360840</td>\n",
       "      <td>5</td>\n",
       "      <td>-0.000000</td>\n",
       "      <td>0.383246</td>\n",
       "      <td>2544.346680</td>\n",
       "      <td>0.215087</td>\n",
       "      <td>0.0</td>\n",
       "      <td>0.0</td>\n",
       "      <td>...</td>\n",
       "      <td>0.0</td>\n",
       "      <td>1.0</td>\n",
       "      <td>0.0</td>\n",
       "      <td>0.0</td>\n",
       "      <td>0.0</td>\n",
       "      <td>0.0</td>\n",
       "      <td>1.0</td>\n",
       "      <td>0.0</td>\n",
       "      <td>0.0</td>\n",
       "      <td>0</td>\n",
       "    </tr>\n",
       "    <tr>\n",
       "      <th>1261</th>\n",
       "      <td>-2.966303</td>\n",
       "      <td>24.443955</td>\n",
       "      <td>210.000000</td>\n",
       "      <td>8</td>\n",
       "      <td>-0.222222</td>\n",
       "      <td>2.303448</td>\n",
       "      <td>1176.520264</td>\n",
       "      <td>0.273165</td>\n",
       "      <td>0.0</td>\n",
       "      <td>0.0</td>\n",
       "      <td>...</td>\n",
       "      <td>0.0</td>\n",
       "      <td>1.0</td>\n",
       "      <td>0.0</td>\n",
       "      <td>0.0</td>\n",
       "      <td>0.0</td>\n",
       "      <td>0.0</td>\n",
       "      <td>1.0</td>\n",
       "      <td>0.0</td>\n",
       "      <td>0.0</td>\n",
       "      <td>0</td>\n",
       "    </tr>\n",
       "  </tbody>\n",
       "</table>\n",
       "<p>1262 rows × 24 columns</p>\n",
       "</div>"
      ],
      "text/plain": [
       "            SPI      Aspect  Stream_dist  Elevation  Curvature      Slope  \\\n",
       "0     -0.370848  190.491470    67.082039         36  -0.222222  19.304520   \n",
       "1      0.409195  205.709961    67.082039         43   0.666667  19.526470   \n",
       "2     -1.394833  236.040939   240.000000         89   0.333333  12.309163   \n",
       "3     -0.318317  187.943466   283.019440        106   0.444444  20.940453   \n",
       "4     -0.101314  230.262390   284.604981        160   0.111111  24.932274   \n",
       "...         ...         ...          ...        ...        ...        ...   \n",
       "1257  -0.943135    0.000000    60.000000         11  -0.111111   1.322716   \n",
       "1258  -2.145573   -1.000000     0.000000          5  -0.000000   0.925643   \n",
       "1259  -0.526580  305.537689    60.000000          5  -0.111111   2.622850   \n",
       "1260 -11.883438  135.000000   331.360840          5  -0.000000   0.383246   \n",
       "1261  -2.966303   24.443955   210.000000          8  -0.222222   2.303448   \n",
       "\n",
       "        Road_dist      NDVI  Geology_1  Geology_2  ...  Geology_7  Geology_8  \\\n",
       "0      381.837677  0.263359        0.0        0.0  ...        1.0        0.0   \n",
       "1      366.196655  0.286868        0.0        0.0  ...        1.0        0.0   \n",
       "2      540.832703  0.291367        0.0        0.0  ...        1.0        0.0   \n",
       "3      600.000000  0.361999        0.0        0.0  ...        1.0        0.0   \n",
       "4      816.088257  0.309558        0.0        0.0  ...        1.0        0.0   \n",
       "...           ...       ...        ...        ...  ...        ...        ...   \n",
       "1257   782.304260  0.138290        1.0        0.0  ...        0.0        0.0   \n",
       "1258   540.832703  0.107780        1.0        0.0  ...        0.0        0.0   \n",
       "1259  1142.365967  0.191957        0.0        0.0  ...        0.0        1.0   \n",
       "1260  2544.346680  0.215087        0.0        0.0  ...        0.0        1.0   \n",
       "1261  1176.520264  0.273165        0.0        0.0  ...        0.0        1.0   \n",
       "\n",
       "      Geology_9  Geology_10  Geology_11  LULC_2020_1  LULC_2020_2  \\\n",
       "0           0.0         0.0         0.0          0.0          1.0   \n",
       "1           0.0         0.0         0.0          0.0          1.0   \n",
       "2           0.0         0.0         0.0          0.0          1.0   \n",
       "3           0.0         0.0         0.0          0.0          1.0   \n",
       "4           0.0         0.0         0.0          0.0          1.0   \n",
       "...         ...         ...         ...          ...          ...   \n",
       "1257        0.0         0.0         0.0          1.0          0.0   \n",
       "1258        0.0         0.0         0.0          1.0          0.0   \n",
       "1259        0.0         0.0         0.0          0.0          0.0   \n",
       "1260        0.0         0.0         0.0          0.0          1.0   \n",
       "1261        0.0         0.0         0.0          0.0          1.0   \n",
       "\n",
       "      LULC_2020_3  LULC_2020_4  Landslide  \n",
       "0             0.0          0.0          1  \n",
       "1             0.0          0.0          1  \n",
       "2             0.0          0.0          1  \n",
       "3             0.0          0.0          1  \n",
       "4             0.0          0.0          1  \n",
       "...           ...          ...        ...  \n",
       "1257          0.0          0.0          0  \n",
       "1258          0.0          0.0          0  \n",
       "1259          0.0          1.0          0  \n",
       "1260          0.0          0.0          0  \n",
       "1261          0.0          0.0          0  \n",
       "\n",
       "[1262 rows x 24 columns]"
      ]
     },
     "execution_count": 30,
     "metadata": {},
     "output_type": "execute_result"
    }
   ],
   "source": [
    "data"
   ]
  },
  {
   "cell_type": "code",
   "execution_count": 16,
   "metadata": {},
   "outputs": [
    {
     "data": {
      "text/plain": [
       "Index(['Curvature', 'SPI', 'Aspect', 'Elevation', 'Road_dist', 'NDVI',\n",
       "       'Stream_dist', 'Slope', 'Geology_1', 'Geology_2', 'Geology_3',\n",
       "       'Geology_4', 'Geology_5', 'Geology_6', 'Geology_7', 'Geology_8',\n",
       "       'Geology_9', 'Geology_10', 'Geology_11', 'LULC_2020_1', 'LULC_2020_2',\n",
       "       'LULC_2020_3', 'LULC_2020_4', 'Landslide'],\n",
       "      dtype='object')"
      ]
     },
     "execution_count": 16,
     "metadata": {},
     "output_type": "execute_result"
    }
   ],
   "source": [
    "data.columns"
   ]
  },
  {
   "cell_type": "markdown",
   "metadata": {},
   "source": [
    "#### Feature scaling"
   ]
  },
  {
   "cell_type": "code",
   "execution_count": 17,
   "metadata": {},
   "outputs": [],
   "source": [
    "from sklearn.preprocessing import StandardScaler\n",
    "\n",
    "# Stan\n",
    "features = data.columns[:-1]\n",
    "\n",
    "# Separating out the features\n",
    "X = data.loc[:, features].values\n",
    "\n",
    "# Separating out the target\n",
    "y = data.loc[:,['Landslide']].values\n",
    "\n",
    "X = StandardScaler().fit_transform(X)"
   ]
  },
  {
   "cell_type": "code",
   "execution_count": 18,
   "metadata": {},
   "outputs": [
    {
     "data": {
      "text/plain": [
       "(1262, 23)"
      ]
     },
     "execution_count": 18,
     "metadata": {},
     "output_type": "execute_result"
    }
   ],
   "source": [
    "X.shape"
   ]
  },
  {
   "cell_type": "markdown",
   "metadata": {},
   "source": [
    "#### Principal Component Analysis"
   ]
  },
  {
   "cell_type": "code",
   "execution_count": 19,
   "metadata": {},
   "outputs": [],
   "source": [
    "from sklearn.decomposition import PCA\n",
    "pca = PCA(n_components=2, random_state=0)\n",
    "\n",
    "principalComponents = pca.fit_transform(X)\n",
    "\n",
    "principalDf = pd.DataFrame(data = principalComponents\n",
    "             , columns = ['principal component 1', 'principal component 2'])"
   ]
  },
  {
   "cell_type": "code",
   "execution_count": 20,
   "metadata": {},
   "outputs": [],
   "source": [
    "finalDf = pd.concat([principalDf, data[['Landslide']]], axis = 1)"
   ]
  },
  {
   "cell_type": "code",
   "execution_count": 21,
   "metadata": {},
   "outputs": [
    {
     "data": {
      "text/html": [
       "<div>\n",
       "<style scoped>\n",
       "    .dataframe tbody tr th:only-of-type {\n",
       "        vertical-align: middle;\n",
       "    }\n",
       "\n",
       "    .dataframe tbody tr th {\n",
       "        vertical-align: top;\n",
       "    }\n",
       "\n",
       "    .dataframe thead th {\n",
       "        text-align: right;\n",
       "    }\n",
       "</style>\n",
       "<table border=\"1\" class=\"dataframe\">\n",
       "  <thead>\n",
       "    <tr style=\"text-align: right;\">\n",
       "      <th></th>\n",
       "      <th>principal component 1</th>\n",
       "      <th>principal component 2</th>\n",
       "      <th>Landslide</th>\n",
       "    </tr>\n",
       "  </thead>\n",
       "  <tbody>\n",
       "    <tr>\n",
       "      <th>0</th>\n",
       "      <td>3.788854</td>\n",
       "      <td>0.610600</td>\n",
       "      <td>1</td>\n",
       "    </tr>\n",
       "    <tr>\n",
       "      <th>1</th>\n",
       "      <td>3.930947</td>\n",
       "      <td>0.594835</td>\n",
       "      <td>1</td>\n",
       "    </tr>\n",
       "    <tr>\n",
       "      <th>2</th>\n",
       "      <td>4.308257</td>\n",
       "      <td>0.676679</td>\n",
       "      <td>1</td>\n",
       "    </tr>\n",
       "    <tr>\n",
       "      <th>3</th>\n",
       "      <td>5.594572</td>\n",
       "      <td>1.173058</td>\n",
       "      <td>1</td>\n",
       "    </tr>\n",
       "    <tr>\n",
       "      <th>4</th>\n",
       "      <td>6.833087</td>\n",
       "      <td>2.365203</td>\n",
       "      <td>1</td>\n",
       "    </tr>\n",
       "    <tr>\n",
       "      <th>...</th>\n",
       "      <td>...</td>\n",
       "      <td>...</td>\n",
       "      <td>...</td>\n",
       "    </tr>\n",
       "    <tr>\n",
       "      <th>1257</th>\n",
       "      <td>-1.507562</td>\n",
       "      <td>1.276212</td>\n",
       "      <td>0</td>\n",
       "    </tr>\n",
       "    <tr>\n",
       "      <th>1258</th>\n",
       "      <td>-1.821227</td>\n",
       "      <td>1.289678</td>\n",
       "      <td>0</td>\n",
       "    </tr>\n",
       "    <tr>\n",
       "      <th>1259</th>\n",
       "      <td>-0.685971</td>\n",
       "      <td>-1.976964</td>\n",
       "      <td>0</td>\n",
       "    </tr>\n",
       "    <tr>\n",
       "      <th>1260</th>\n",
       "      <td>-0.214750</td>\n",
       "      <td>-2.468360</td>\n",
       "      <td>0</td>\n",
       "    </tr>\n",
       "    <tr>\n",
       "      <th>1261</th>\n",
       "      <td>0.697424</td>\n",
       "      <td>-2.167467</td>\n",
       "      <td>0</td>\n",
       "    </tr>\n",
       "  </tbody>\n",
       "</table>\n",
       "<p>1262 rows × 3 columns</p>\n",
       "</div>"
      ],
      "text/plain": [
       "      principal component 1  principal component 2  Landslide\n",
       "0                  3.788854               0.610600          1\n",
       "1                  3.930947               0.594835          1\n",
       "2                  4.308257               0.676679          1\n",
       "3                  5.594572               1.173058          1\n",
       "4                  6.833087               2.365203          1\n",
       "...                     ...                    ...        ...\n",
       "1257              -1.507562               1.276212          0\n",
       "1258              -1.821227               1.289678          0\n",
       "1259              -0.685971              -1.976964          0\n",
       "1260              -0.214750              -2.468360          0\n",
       "1261               0.697424              -2.167467          0\n",
       "\n",
       "[1262 rows x 3 columns]"
      ]
     },
     "execution_count": 21,
     "metadata": {},
     "output_type": "execute_result"
    }
   ],
   "source": [
    "finalDf"
   ]
  },
  {
   "cell_type": "code",
   "execution_count": 63,
   "metadata": {},
   "outputs": [
    {
     "data": {
      "image/png": "[encoded data removed]",
      "text/plain": [
       "<Figure size 720x720 with 1 Axes>"
      ]
     },
     "metadata": {
      "needs_background": "light"
     },
     "output_type": "display_data"
    }
   ],
   "source": [
    "fig = plt.figure(figsize = (10,10))\n",
    "ax = fig.add_subplot(1,1,1) \n",
    "ax.set_xlabel('Principal Component 1', fontsize = 15)\n",
    "ax.set_ylabel('Principal Component 2', fontsize = 15)\n",
    "# ax.set_title('2 component PCA', fontsize = 20)\n",
    "targets = [1, 0]\n",
    "colors = ['r', 'g']\n",
    "for target, color in zip(targets,colors):\n",
    "    indicesToKeep = finalDf['Landslide'] == target\n",
    "    ax.scatter(finalDf.loc[indicesToKeep, 'principal component 1'],\n",
    "               finalDf.loc[indicesToKeep, 'principal component 2'],\n",
    "               c = 'white',\n",
    "#                c = color,\n",
    "               edgecolors = color,\n",
    "               s = 30,\n",
    "#                alpha = 0.25\n",
    "              )\n",
    "ax.legend(['Landslide','No Landslide'], fontsize =16)\n",
    "ax.grid()\n",
    "plt.savefig(os.path.join('..','figures','pca.png'), dpi = 300)"
   ]
  },
  {
   "cell_type": "markdown",
   "metadata": {},
   "source": [
    "#### Splitting dataset for training and testing"
   ]
  },
  {
   "cell_type": "code",
   "execution_count": 23,
   "metadata": {},
   "outputs": [],
   "source": [
    "from sklearn.model_selection import train_test_split\n",
    "\n",
    "X_train, X_test, y_train, y_test = train_test_split(X, y, test_size=0.40, random_state=0)"
   ]
  },
  {
   "cell_type": "markdown",
   "metadata": {},
   "source": [
    "#### Machine Learning Algorithms"
   ]
  },
  {
   "cell_type": "code",
   "execution_count": 24,
   "metadata": {},
   "outputs": [],
   "source": [
    "from sklearn.model_selection import GridSearchCV\n",
    "\n",
    "from sklearn.linear_model import LogisticRegression\n",
    "from sklearn.svm import SVC\n",
    "from sklearn.tree import DecisionTreeClassifier\n",
    "from sklearn.ensemble import RandomForestClassifier\n",
    "from sklearn.neural_network import MLPClassifier\n",
    "from sklearn.neighbors import KNeighborsClassifier\n",
    "\n",
    "from sklearn.metrics import confusion_matrix\n",
    "from sklearn.metrics import accuracy_score\n",
    "from sklearn.metrics import roc_curve\n",
    "from sklearn.metrics import roc_auc_score\n",
    "from sklearn.metrics import precision_recall_fscore_support\n",
    "from sklearn.metrics import precision_recall_curve"
   ]
  },
  {
   "cell_type": "markdown",
   "metadata": {},
   "source": [
    "##### k-Nearest Neighbor\n",
    "Hyperparameter(s):\n",
    "* n_neighbors\n",
    "* weights\n",
    "* metric"
   ]
  },
  {
   "cell_type": "markdown",
   "metadata": {},
   "source": [
    "Hyperparameter optimization"
   ]
  },
  {
   "cell_type": "code",
   "execution_count": 25,
   "metadata": {},
   "outputs": [
    {
     "name": "stdout",
     "output_type": "stream",
     "text": [
      "Best score: 0.8863802718717324\n",
      "Best hyperparameters: {'metric': 'manhattan', 'n_neighbors': 5, 'weights': 'distance'}\n"
     ]
    }
   ],
   "source": [
    "model = KNeighborsClassifier()\n",
    "\n",
    "param_grid = { \n",
    "    'n_neighbors': [3,5,11,19],\n",
    "    'weights': ['uniform', 'distance'],\n",
    "    'metric' : ['euclidean', 'manhattan'],\n",
    "}\n",
    "\n",
    "grid = GridSearchCV(estimator=model, param_grid=param_grid)\n",
    "\n",
    "grid.fit(X_train, y_train.ravel())\n",
    "\n",
    "metric = grid.best_estimator_.metric\n",
    "n_neighbors = grid.best_estimator_.n_neighbors\n",
    "weights = grid.best_estimator_.weights\n",
    "\n",
    "# summarize the results of the grid search\n",
    "print('Best score:', grid.best_score_)\n",
    "print('Best hyperparameters:',grid.best_params_)"
   ]
  },
  {
   "cell_type": "markdown",
   "metadata": {},
   "source": [
    "Train on optimal hyperparameters"
   ]
  },
  {
   "cell_type": "code",
   "execution_count": 26,
   "metadata": {},
   "outputs": [],
   "source": [
    "knn = KNeighborsClassifier(metric=metric, n_neighbors=n_neighbors, weights=weights).fit(X_train, y_train.ravel())"
   ]
  },
  {
   "cell_type": "markdown",
   "metadata": {},
   "source": [
    "Get predictions and probabilities on test set"
   ]
  },
  {
   "cell_type": "code",
   "execution_count": 27,
   "metadata": {},
   "outputs": [],
   "source": [
    "knn_pred = knn.predict(X_test)\n",
    "knn_proba = knn.predict_proba(X_test)"
   ]
  },
  {
   "cell_type": "markdown",
   "metadata": {},
   "source": [
    "Performance metrics"
   ]
  },
  {
   "cell_type": "code",
   "execution_count": 64,
   "metadata": {
    "scrolled": true
   },
   "outputs": [
    {
     "name": "stdout",
     "output_type": "stream",
     "text": [
      "k Nearest Neighbors:\n",
      "\n",
      "Confusion matrix:\n",
      " [[215  29]\n",
      " [ 18 243]] \n",
      "\n",
      "TN:  215  FP:  29  FN:  18  TP:  243\n",
      "Accuracy: 0.906930693069307\n",
      "ROC AUC=0.9721\n",
      "Precision on (Landslide = 0) = 0.9227 \n",
      "Recall on (Landslide = 0) = 0.8811 \n",
      "F1 on (Landslide = 0) = 0.9015\n",
      "Precision on (Landslide = 1) = 0.8934 \n",
      "Recall on (Landslide = 1) = 0.9310 \n",
      "F1 on (Landslide = 1) = 0.9118 \n"
     ]
    }
   ],
   "source": [
    "knn_conf_mat = confusion_matrix(y_test, knn_pred)\n",
    "knn_acc = accuracy_score(y_test, knn_pred)\n",
    "knn_roc_auc = roc_auc_score(y_test, knn_proba[:,1])\n",
    "\n",
    "knn_fpr, knn_tpr, _ = roc_curve(y_test, knn_proba[:,1])\n",
    "knn_precision, knn_recall, _ = precision_recall_curve(y_test, knn_proba[:,1])\n",
    "\n",
    "knn_cls_precision, knn_cls_recall, knn_cls_f1, _ = precision_recall_fscore_support(y_test, knn_pred, average=None, labels=[0,1])\n",
    "\n",
    "\n",
    "\n",
    "print('k Nearest Neighbors:')\n",
    "print('\\nConfusion matrix:\\n',knn_conf_mat,'\\n')\n",
    "tn, fp, fn, tp = knn_conf_mat.ravel()\n",
    "print('TN: ', tn,' FP: ', fp,' FN: ', fn,' TP: ', tp)\n",
    "print('Accuracy:',knn_acc)\n",
    "print('ROC AUC=%.4f' % (knn_roc_auc))\n",
    "print('Precision on (Landslide = 0) = %.4f ' % (knn_cls_precision[0]))\n",
    "print('Recall on (Landslide = 0) = %.4f ' % (knn_cls_recall[0]))\n",
    "print('F1 on (Landslide = 0) = %.4f' % (knn_cls_f1[0]))\n",
    "print('Precision on (Landslide = 1) = %.4f ' % (knn_cls_precision[1]))\n",
    "print('Recall on (Landslide = 1) = %.4f ' % (knn_cls_recall[1]))\n",
    "print('F1 on (Landslide = 1) = %.4f ' % (knn_cls_f1[1]))"
   ]
  },
  {
   "cell_type": "code",
   "execution_count": null,
   "metadata": {},
   "outputs": [],
   "source": []
  },
  {
   "cell_type": "markdown",
   "metadata": {},
   "source": [
    "##### Logistic Regression\n",
    "Hyperparameter(s): \n",
    "* C (inverse of regularization strength)"
   ]
  },
  {
   "cell_type": "code",
   "execution_count": 29,
   "metadata": {},
   "outputs": [
    {
     "data": {
      "text/plain": [
       "array([1.e-03, 1.e-02, 1.e-01, 1.e+00, 1.e+01, 1.e+02, 1.e+03])"
      ]
     },
     "execution_count": 29,
     "metadata": {},
     "output_type": "execute_result"
    }
   ],
   "source": [
    "np.logspace(-3,3,7)"
   ]
  },
  {
   "cell_type": "markdown",
   "metadata": {},
   "source": [
    "Hyperparameter optimization"
   ]
  },
  {
   "cell_type": "code",
   "execution_count": 30,
   "metadata": {},
   "outputs": [
    {
     "name": "stdout",
     "output_type": "stream",
     "text": [
      "Best score: 0.9167741373300802\n",
      "Best hyperparameters: {'C': 10.0}\n"
     ]
    }
   ],
   "source": [
    "model = LogisticRegression(random_state=0, solver = 'liblinear')\n",
    "\n",
    "param_grid={'C':np.logspace(-3,3,7), # inverse of regularization strength\n",
    "     }\n",
    "\n",
    "grid = GridSearchCV(estimator=model, param_grid=param_grid)\n",
    "\n",
    "grid.fit(X_train, y_train.ravel())\n",
    "\n",
    "C = grid.best_estimator_.C\n",
    "\n",
    "# summarize the results of the grid search\n",
    "print('Best score:', grid.best_score_)\n",
    "print('Best hyperparameters:',grid.best_params_)"
   ]
  },
  {
   "cell_type": "markdown",
   "metadata": {},
   "source": [
    "Train on opmtimal hyperparameters"
   ]
  },
  {
   "cell_type": "code",
   "execution_count": 31,
   "metadata": {},
   "outputs": [],
   "source": [
    "lr = LogisticRegression(random_state =0, solver = 'liblinear', C=C).fit(X_train,y_train.ravel())"
   ]
  },
  {
   "cell_type": "markdown",
   "metadata": {},
   "source": [
    "Get predictions and probabilities on test set"
   ]
  },
  {
   "cell_type": "code",
   "execution_count": 32,
   "metadata": {},
   "outputs": [],
   "source": [
    "lr_pred = lr.predict(X_test)\n",
    "lr_proba = lr.predict_proba(X_test)"
   ]
  },
  {
   "cell_type": "markdown",
   "metadata": {},
   "source": [
    "Performance metrics"
   ]
  },
  {
   "cell_type": "code",
   "execution_count": 65,
   "metadata": {},
   "outputs": [
    {
     "name": "stdout",
     "output_type": "stream",
     "text": [
      "Logistic Regression:\n",
      "\n",
      "Confusion matrix:\n",
      " [[226  18]\n",
      " [ 19 242]] \n",
      "\n",
      "TN:  226  FP:  18  FN:  19  TP:  242\n",
      "Accuracy: 0.9267326732673268\n",
      "ROC AUC=0.9678\n",
      "Precision on (Landslide = 0) = 0.9224 \n",
      "Recall on (Landslide = 0) = 0.9262 \n",
      "F1 on (Landslide = 0) = 0.9243\n",
      "Precision on (Landslide = 1) = 0.9308 \n",
      "Recall on (Landslide = 1) = 0.9272 \n",
      "F1 on (Landslide = 1) = 0.9290 \n"
     ]
    }
   ],
   "source": [
    "lr_conf_mat = confusion_matrix(y_test, lr_pred)\n",
    "lr_acc = accuracy_score(y_test, lr_pred)\n",
    "lr_roc_auc = roc_auc_score(y_test, lr_proba[:,1])\n",
    "\n",
    "lr_fpr, lr_tpr, _ = roc_curve(y_test, lr_proba[:,1])\n",
    "lr_precision, lr_recall, _ = precision_recall_curve(y_test, lr_proba[:,1])\n",
    "\n",
    "lr_cls_precision, lr_cls_recall, lr_cls_f1, _ = precision_recall_fscore_support(y_test, lr_pred, average=None, labels=[0,1])\n",
    "print('Logistic Regression:')\n",
    "print('\\nConfusion matrix:\\n',lr_conf_mat,'\\n')\n",
    "tn, fp, fn, tp = lr_conf_mat.ravel()\n",
    "print('TN: ', tn,' FP: ', fp,' FN: ', fn,' TP: ', tp)\n",
    "print('Accuracy:',lr_acc)\n",
    "print('ROC AUC=%.4f' % (lr_roc_auc))\n",
    "print('Precision on (Landslide = 0) = %.4f ' % (lr_cls_precision[0]))\n",
    "print('Recall on (Landslide = 0) = %.4f ' % (lr_cls_recall[0]))\n",
    "print('F1 on (Landslide = 0) = %.4f' % (lr_cls_f1[0]))\n",
    "print('Precision on (Landslide = 1) = %.4f ' % (lr_cls_precision[1]))\n",
    "print('Recall on (Landslide = 1) = %.4f ' % (lr_cls_recall[1]))\n",
    "print('F1 on (Landslide = 1) = %.4f ' % (lr_cls_f1[1]))\n"
   ]
  },
  {
   "cell_type": "markdown",
   "metadata": {},
   "source": [
    "##### Support Vector Machine\n",
    "Hyperparameter(s): \n",
    "* C (inverse of regularization strength)\n",
    "* kernel (Specifies kernel type from, ‘poly’, ‘rbf’, ‘sigmoid’)\n",
    "* Gamma (kernel coefficient for 'rbf', 'poly' and 'sigmoid'"
   ]
  },
  {
   "cell_type": "markdown",
   "metadata": {},
   "source": [
    "Hyperparameter optimization"
   ]
  },
  {
   "cell_type": "code",
   "execution_count": 34,
   "metadata": {},
   "outputs": [
    {
     "name": "stdout",
     "output_type": "stream",
     "text": [
      "Best score: 0.9286772394562565\n",
      "Best hyperparameters: {'C': 1000.0, 'gamma': 0.001, 'kernel': 'rbf'}\n"
     ]
    }
   ],
   "source": [
    "model = SVC(random_state=0, probability=True)\n",
    "\n",
    "param_grid={'C':np.logspace(-3,3,7),\n",
    "            'kernel': ['poly', 'rbf', 'sigmoid'],\n",
    "          'gamma': [0.001, 0.01, 1],\n",
    "           }\n",
    "grid = GridSearchCV(estimator=model, param_grid=param_grid)\n",
    "\n",
    "grid.fit(X_train, y_train.ravel())\n",
    "\n",
    "C = grid.best_estimator_.C\n",
    "gamma = grid.best_estimator_.gamma\n",
    "kernel = grid.best_estimator_.kernel\n",
    "\n",
    "# summarize the results of the grid search\n",
    "print('Best score:', grid.best_score_)\n",
    "print('Best hyperparameters:',grid.best_params_)"
   ]
  },
  {
   "cell_type": "markdown",
   "metadata": {},
   "source": [
    "Train on opmtimal hyperparameters"
   ]
  },
  {
   "cell_type": "code",
   "execution_count": 35,
   "metadata": {},
   "outputs": [],
   "source": [
    "svm = SVC(random_state =0, probability = True, C=C,  gamma =gamma, kernel = kernel).fit(X_train,y_train.ravel())"
   ]
  },
  {
   "cell_type": "markdown",
   "metadata": {},
   "source": [
    "Get predictions and probabilities on test set"
   ]
  },
  {
   "cell_type": "code",
   "execution_count": 36,
   "metadata": {},
   "outputs": [],
   "source": [
    "svm_pred = svm.predict(X_test)\n",
    "svm_proba = svm.predict_proba(X_test)"
   ]
  },
  {
   "cell_type": "markdown",
   "metadata": {},
   "source": [
    "Performance metrics"
   ]
  },
  {
   "cell_type": "code",
   "execution_count": 66,
   "metadata": {},
   "outputs": [
    {
     "name": "stdout",
     "output_type": "stream",
     "text": [
      "Support Vector Machine :\n",
      "\n",
      "Confusion matrix:\n",
      " [[229  15]\n",
      " [ 15 246]] \n",
      "\n",
      "TN:  229  FP:  15  FN:  15  TP:  246\n",
      "Accuracy: 0.9405940594059405\n",
      "ROC AUC=0.9809\n",
      "Precision on (Landslide = 0) = 0.9385 \n",
      "Recall on (Landslide = 0) = 0.9385 \n",
      "F1 on (Landslide = 0) = 0.9385\n",
      "Precision on (Landslide = 1) = 0.9425 \n",
      "Recall on (Landslide = 1) = 0.9425 \n",
      "F1 on (Landslide = 1) = 0.9425 \n"
     ]
    }
   ],
   "source": [
    "svm_conf_mat = confusion_matrix(y_test, svm_pred)\n",
    "svm_acc = accuracy_score(y_test, svm_pred)\n",
    "svm_roc_auc = roc_auc_score(y_test, svm_proba[:,1])\n",
    "\n",
    "svm_fpr, svm_tpr, _ = roc_curve(y_test, svm_proba[:,1])\n",
    "svm_precision, svm_recall, _ = precision_recall_curve(y_test, svm_proba[:,1])\n",
    "\n",
    "svm_cls_precision, svm_cls_recall, svm_cls_f1, _ = precision_recall_fscore_support(y_test, svm_pred, average=None, labels=[0,1])\n",
    "print('Support Vector Machine :')\n",
    "print('\\nConfusion matrix:\\n',svm_conf_mat,'\\n')\n",
    "tn, fp, fn, tp = svm_conf_mat.ravel()\n",
    "print('TN: ', tn,' FP: ', fp,' FN: ', fn,' TP: ', tp)\n",
    "print('Accuracy:',svm_acc)\n",
    "print('ROC AUC=%.4f' % (svm_roc_auc))\n",
    "print('Precision on (Landslide = 0) = %.4f ' % (svm_cls_precision[0]))\n",
    "print('Recall on (Landslide = 0) = %.4f ' % (svm_cls_recall[0]))\n",
    "print('F1 on (Landslide = 0) = %.4f' % (svm_cls_f1[0]))\n",
    "print('Precision on (Landslide = 1) = %.4f ' % (svm_cls_precision[1]))\n",
    "print('Recall on (Landslide = 1) = %.4f ' % (svm_cls_recall[1]))\n",
    "print('F1 on (Landslide = 1) = %.4f ' % (svm_cls_f1[1]))"
   ]
  },
  {
   "cell_type": "code",
   "execution_count": null,
   "metadata": {},
   "outputs": [],
   "source": []
  },
  {
   "cell_type": "markdown",
   "metadata": {},
   "source": [
    "##### Multi Layer Perceptron (Artificial Neural Network\n",
    "Hyperparameter(s):\n",
    "* hidden_layer_sizes\n",
    "* activation (activation function for squeezing output)\n",
    "* alpha\n",
    "* learning rate"
   ]
  },
  {
   "cell_type": "markdown",
   "metadata": {},
   "source": [
    "Hyperparameter optimization"
   ]
  },
  {
   "cell_type": "code",
   "execution_count": 38,
   "metadata": {},
   "outputs": [
    {
     "data": {
      "text/plain": [
       "array([0.1   , 0.01  , 0.001 , 0.0001])"
      ]
     },
     "execution_count": 38,
     "metadata": {},
     "output_type": "execute_result"
    }
   ],
   "source": [
    "10.0 ** -np.arange(1, 5)"
   ]
  },
  {
   "cell_type": "code",
   "execution_count": 39,
   "metadata": {},
   "outputs": [
    {
     "data": {
      "text/plain": [
       "array([10, 15, 20, 25, 30, 35, 40, 45])"
      ]
     },
     "execution_count": 39,
     "metadata": {},
     "output_type": "execute_result"
    }
   ],
   "source": [
    "np.arange(10, 50, 5)"
   ]
  },
  {
   "cell_type": "code",
   "execution_count": 40,
   "metadata": {},
   "outputs": [
    {
     "name": "stderr",
     "output_type": "stream",
     "text": [
      "/home/nahian/anaconda3/lib/python3.7/site-packages/sklearn/neural_network/_multilayer_perceptron.py:571: ConvergenceWarning: Stochastic Optimizer: Maximum iterations (1000) reached and the optimization hasn't converged yet.\n",
      "  % self.max_iter, ConvergenceWarning)\n",
      "/home/nahian/anaconda3/lib/python3.7/site-packages/sklearn/neural_network/_multilayer_perceptron.py:571: ConvergenceWarning: Stochastic Optimizer: Maximum iterations (1000) reached and the optimization hasn't converged yet.\n",
      "  % self.max_iter, ConvergenceWarning)\n",
      "/home/nahian/anaconda3/lib/python3.7/site-packages/sklearn/neural_network/_multilayer_perceptron.py:571: ConvergenceWarning: Stochastic Optimizer: Maximum iterations (1000) reached and the optimization hasn't converged yet.\n",
      "  % self.max_iter, ConvergenceWarning)\n",
      "/home/nahian/anaconda3/lib/python3.7/site-packages/sklearn/neural_network/_multilayer_perceptron.py:571: ConvergenceWarning: Stochastic Optimizer: Maximum iterations (1000) reached and the optimization hasn't converged yet.\n",
      "  % self.max_iter, ConvergenceWarning)\n",
      "/home/nahian/anaconda3/lib/python3.7/site-packages/sklearn/neural_network/_multilayer_perceptron.py:571: ConvergenceWarning: Stochastic Optimizer: Maximum iterations (1000) reached and the optimization hasn't converged yet.\n",
      "  % self.max_iter, ConvergenceWarning)\n",
      "/home/nahian/anaconda3/lib/python3.7/site-packages/sklearn/neural_network/_multilayer_perceptron.py:571: ConvergenceWarning: Stochastic Optimizer: Maximum iterations (1000) reached and the optimization hasn't converged yet.\n",
      "  % self.max_iter, ConvergenceWarning)\n",
      "/home/nahian/anaconda3/lib/python3.7/site-packages/sklearn/neural_network/_multilayer_perceptron.py:571: ConvergenceWarning: Stochastic Optimizer: Maximum iterations (1000) reached and the optimization hasn't converged yet.\n",
      "  % self.max_iter, ConvergenceWarning)\n",
      "/home/nahian/anaconda3/lib/python3.7/site-packages/sklearn/neural_network/_multilayer_perceptron.py:571: ConvergenceWarning: Stochastic Optimizer: Maximum iterations (1000) reached and the optimization hasn't converged yet.\n",
      "  % self.max_iter, ConvergenceWarning)\n",
      "/home/nahian/anaconda3/lib/python3.7/site-packages/sklearn/neural_network/_multilayer_perceptron.py:571: ConvergenceWarning: Stochastic Optimizer: Maximum iterations (1000) reached and the optimization hasn't converged yet.\n",
      "  % self.max_iter, ConvergenceWarning)\n",
      "/home/nahian/anaconda3/lib/python3.7/site-packages/sklearn/neural_network/_multilayer_perceptron.py:571: ConvergenceWarning: Stochastic Optimizer: Maximum iterations (1000) reached and the optimization hasn't converged yet.\n",
      "  % self.max_iter, ConvergenceWarning)\n",
      "/home/nahian/anaconda3/lib/python3.7/site-packages/sklearn/neural_network/_multilayer_perceptron.py:571: ConvergenceWarning: Stochastic Optimizer: Maximum iterations (1000) reached and the optimization hasn't converged yet.\n",
      "  % self.max_iter, ConvergenceWarning)\n",
      "/home/nahian/anaconda3/lib/python3.7/site-packages/sklearn/neural_network/_multilayer_perceptron.py:571: ConvergenceWarning: Stochastic Optimizer: Maximum iterations (1000) reached and the optimization hasn't converged yet.\n",
      "  % self.max_iter, ConvergenceWarning)\n"
     ]
    },
    {
     "name": "stdout",
     "output_type": "stream",
     "text": [
      "Best score: 0.9445364238410596\n",
      "Best hyperparameters: {'activation': 'relu', 'alpha': 0.0001, 'hidden_layer_sizes': 20, 'learning_rate': 'constant'}\n"
     ]
    }
   ],
   "source": [
    "model = MLPClassifier(random_state=0, max_iter=1000)\n",
    "\n",
    "param_grid={\n",
    "            'hidden_layer_sizes': np.arange(10, 50,5),\n",
    "            'activation': ['identity', 'logistic', 'tanh', 'relu'],\n",
    "            'alpha' : 10.0 ** -np.arange(1, 5),\n",
    "            'learning_rate': ['constant', 'adaptive']\n",
    "           }\n",
    "\n",
    "grid = GridSearchCV(estimator=model, param_grid=param_grid)\n",
    "\n",
    "grid.fit(X_train, y_train.ravel())\n",
    "\n",
    "hidden_layer_sizes = grid.best_estimator_.hidden_layer_sizes\n",
    "activation = grid.best_estimator_.activation\n",
    "alpha = grid.best_estimator_.alpha\n",
    "learning_rate = grid.best_estimator_.learning_rate\n",
    "\n",
    "# summarize the results of the grid search\n",
    "print('Best score:', grid.best_score_)\n",
    "print('Best hyperparameters:',grid.best_params_)"
   ]
  },
  {
   "cell_type": "markdown",
   "metadata": {},
   "source": [
    "Train on optimal hyperparameters"
   ]
  },
  {
   "cell_type": "code",
   "execution_count": 41,
   "metadata": {},
   "outputs": [],
   "source": [
    "mlp = MLPClassifier(random_state=0, max_iter = 2000, activation = activation, alpha = alpha, hidden_layer_sizes = hidden_layer_sizes, learning_rate=learning_rate).fit(X_train, y_train.ravel())"
   ]
  },
  {
   "cell_type": "markdown",
   "metadata": {},
   "source": [
    "Get predictions and probabilities on test set"
   ]
  },
  {
   "cell_type": "code",
   "execution_count": 42,
   "metadata": {},
   "outputs": [],
   "source": [
    "mlp_pred = mlp.predict(X_test)\n",
    "mlp_proba = mlp.predict_proba(X_test)"
   ]
  },
  {
   "cell_type": "markdown",
   "metadata": {},
   "source": [
    "Performance metrics"
   ]
  },
  {
   "cell_type": "code",
   "execution_count": 67,
   "metadata": {},
   "outputs": [
    {
     "name": "stdout",
     "output_type": "stream",
     "text": [
      "Multi Layer Perceptron :\n",
      "\n",
      "Confusion matrix:\n",
      " [[232  12]\n",
      " [ 11 250]] \n",
      "\n",
      "TN:  232  FP:  12  FN:  11  TP:  250\n",
      "Accuracy: 0.9544554455445544\n",
      "ROC AUC=0.9862\n",
      "Precision on (Landslide = 0) = 0.9547 \n",
      "Recall on (Landslide = 0) = 0.9508 \n",
      "F1 on (Landslide = 0) = 0.9528\n",
      "Precision on (Landslide = 1) = 0.9542 \n",
      "Recall on (Landslide = 1) = 0.9579 \n",
      "F1 on (Landslide = 1) = 0.9560 \n"
     ]
    }
   ],
   "source": [
    "mlp_conf_mat = confusion_matrix(y_test, mlp_pred)\n",
    "mlp_acc = accuracy_score(y_test, mlp_pred)\n",
    "mlp_roc_auc = roc_auc_score(y_test, mlp_proba[:,1])\n",
    "\n",
    "mlp_fpr, mlp_tpr, _ = roc_curve(y_test, mlp_proba[:,1])\n",
    "mlp_precision, mlp_recall, _ = precision_recall_curve(y_test, mlp_proba[:,1])\n",
    "\n",
    "mlp_cls_precision, mlp_cls_recall, mlp_cls_f1, _ = precision_recall_fscore_support(y_test, mlp_pred, average=None, labels=[0,1])\n",
    "\n",
    "print('Multi Layer Perceptron :')\n",
    "print('\\nConfusion matrix:\\n',mlp_conf_mat,'\\n')\n",
    "tn, fp, fn, tp = mlp_conf_mat.ravel()\n",
    "print('TN: ', tn,' FP: ', fp,' FN: ', fn,' TP: ', tp)\n",
    "print('Accuracy:',mlp_acc)\n",
    "print('ROC AUC=%.4f' % (mlp_roc_auc))\n",
    "print('Precision on (Landslide = 0) = %.4f ' % (mlp_cls_precision[0]))\n",
    "print('Recall on (Landslide = 0) = %.4f ' % (mlp_cls_recall[0]))\n",
    "print('F1 on (Landslide = 0) = %.4f' % (mlp_cls_f1[0]))\n",
    "print('Precision on (Landslide = 1) = %.4f ' % (mlp_cls_precision[1]))\n",
    "print('Recall on (Landslide = 1) = %.4f ' % (mlp_cls_recall[1]))\n",
    "print('F1 on (Landslide = 1) = %.4f ' % (mlp_cls_f1[1]))"
   ]
  },
  {
   "cell_type": "markdown",
   "metadata": {},
   "source": [
    "##### Decision Tree\n",
    "* max_features\n",
    "* max_depth\n",
    "* criterion"
   ]
  },
  {
   "cell_type": "markdown",
   "metadata": {},
   "source": [
    "Hyperparameter optimization"
   ]
  },
  {
   "cell_type": "code",
   "execution_count": 44,
   "metadata": {},
   "outputs": [
    {
     "data": {
      "text/plain": [
       "array([10, 12, 14, 16, 18, 20, 22, 24, 26, 28])"
      ]
     },
     "execution_count": 44,
     "metadata": {},
     "output_type": "execute_result"
    }
   ],
   "source": [
    "np.arange(10,30,2)"
   ]
  },
  {
   "cell_type": "code",
   "execution_count": 45,
   "metadata": {},
   "outputs": [
    {
     "name": "stdout",
     "output_type": "stream",
     "text": [
      "Best score: 0.896897873823632\n",
      "Best hyperparameters: {'criterion': 'gini', 'max_depth': 15, 'max_features': 'auto'}\n"
     ]
    }
   ],
   "source": [
    "model = DecisionTreeClassifier(random_state=0)\n",
    "\n",
    "param_grid = { \n",
    "    'max_features': ['auto', 'sqrt', 'log2'],\n",
    "    'max_depth' : np.arange(10,40,5),\n",
    "    'criterion' :['gini', 'entropy']\n",
    "}\n",
    "\n",
    "grid = GridSearchCV(estimator=model, param_grid=param_grid)\n",
    "\n",
    "grid.fit(X_train, y_train.ravel())\n",
    "\n",
    "criterion = grid.best_estimator_.criterion\n",
    "max_depth = grid.best_estimator_.max_depth\n",
    "max_features = grid.best_estimator_.max_features\n",
    "\n",
    "# summarize the results of the grid search\n",
    "print('Best score:', grid.best_score_)\n",
    "print('Best hyperparameters:',grid.best_params_)"
   ]
  },
  {
   "cell_type": "markdown",
   "metadata": {},
   "source": [
    "Train on optimal hyperparameters"
   ]
  },
  {
   "cell_type": "code",
   "execution_count": 46,
   "metadata": {},
   "outputs": [],
   "source": [
    "dt = DecisionTreeClassifier(random_state=0, criterion = criterion, max_depth=max_depth, max_features=max_features).fit(X_train, y_train.ravel())"
   ]
  },
  {
   "cell_type": "markdown",
   "metadata": {},
   "source": [
    "Get predictions and probabilities on test set"
   ]
  },
  {
   "cell_type": "code",
   "execution_count": 47,
   "metadata": {},
   "outputs": [],
   "source": [
    "dt_pred = dt.predict(X_test)\n",
    "dt_proba = dt.predict_proba(X_test)"
   ]
  },
  {
   "cell_type": "markdown",
   "metadata": {},
   "source": [
    "Performance metrics"
   ]
  },
  {
   "cell_type": "code",
   "execution_count": 48,
   "metadata": {},
   "outputs": [
    {
     "name": "stdout",
     "output_type": "stream",
     "text": [
      "Decision Tree:\n",
      "\n",
      "Confusion matrix:\n",
      " [[211  33]\n",
      " [ 38 223]] \n",
      "\n",
      "Accuracy: 0.8594059405940594\n",
      "ROC AUC=0.8533\n",
      "Precision on (Landslide = 0) = 0.8474 \n",
      "Recall on (Landslide = 0) = 0.8648 \n",
      "F1 on (Landslide = 0) = 0.8560\n",
      "Precision on (Landslide = 1) = 0.8711 \n",
      "Recall on (Landslide = 1) = 0.8544 \n",
      "F1 on (Landslide = 1) = 0.8627 \n"
     ]
    }
   ],
   "source": [
    "dt_conf_mat = confusion_matrix(y_test, dt_pred)\n",
    "dt_acc = accuracy_score(y_test, dt_pred)\n",
    "dt_roc_auc = roc_auc_score(y_test, dt_proba[:,1])\n",
    "\n",
    "dt_fpr, dt_tpr, _ = roc_curve(y_test, dt_proba[:,1])\n",
    "dt_precision, dt_recall, _ = precision_recall_curve(y_test, dt_proba[:,1])\n",
    "\n",
    "dt_cls_precision, dt_cls_recall, dt_cls_f1, _ = precision_recall_fscore_support(y_test, dt_pred, average=None, labels=[0,1])\n",
    "\n",
    "print('Decision Tree:')\n",
    "print('\\nConfusion matrix:\\n',dt_conf_mat,'\\n')\n",
    "tn, fp, fn, tp = dt_conf_mat.ravel()\n",
    "print('TN: ', tn,' FP: ', fp,' FN: ', fn,' TP: ', tp)\n",
    "print('Accuracy:',dt_acc)\n",
    "print('ROC AUC=%.4f' % (dt_roc_auc))\n",
    "print('Precision on (Landslide = 0) = %.4f ' % (dt_cls_precision[0]))\n",
    "print('Recall on (Landslide = 0) = %.4f ' % (dt_cls_recall[0]))\n",
    "print('F1 on (Landslide = 0) = %.4f' % (dt_cls_f1[0]))\n",
    "print('Precision on (Landslide = 1) = %.4f ' % (dt_cls_precision[1]))\n",
    "print('Recall on (Landslide = 1) = %.4f ' % (dt_cls_recall[1]))\n",
    "print('F1 on (Landslide = 1) = %.4f ' % (dt_cls_f1[1]))"
   ]
  },
  {
   "cell_type": "markdown",
   "metadata": {},
   "source": [
    "##### Random Forest\n",
    "\n",
    "Hyperparameter(s):\n",
    "* n_estimators\n",
    "* max_features\n",
    "* max_depth\n",
    "* criterion"
   ]
  },
  {
   "cell_type": "markdown",
   "metadata": {},
   "source": [
    "Hyperparameter optimization"
   ]
  },
  {
   "cell_type": "code",
   "execution_count": 49,
   "metadata": {},
   "outputs": [
    {
     "name": "stdout",
     "output_type": "stream",
     "text": [
      "Best score: 0.9497995817357964\n",
      "Best hyperparameters: {'criterion': 'entropy', 'max_depth': 10, 'max_features': 'auto', 'n_estimators': 500}\n"
     ]
    }
   ],
   "source": [
    "model = RandomForestClassifier(random_state=0)\n",
    "\n",
    "param_grid = { \n",
    "    'n_estimators': [200, 300, 400, 500],\n",
    "    'max_features': ['auto', 'sqrt', 'log2'],\n",
    "    'max_depth' : np.arange(10,30,2),\n",
    "    'criterion' :['gini', 'entropy']\n",
    "}\n",
    "\n",
    "grid = GridSearchCV(estimator=model, param_grid=param_grid)\n",
    "\n",
    "grid.fit(X_train, y_train.ravel())\n",
    "\n",
    "n_estimators = grid.best_estimator_.n_estimators\n",
    "criterion = grid.best_estimator_.criterion\n",
    "max_depth = grid.best_estimator_.max_depth\n",
    "max_features = grid.best_estimator_.max_features\n",
    "\n",
    "# summarize the results of the grid search\n",
    "print('Best score:', grid.best_score_)\n",
    "print('Best hyperparameters:',grid.best_params_)"
   ]
  },
  {
   "cell_type": "markdown",
   "metadata": {},
   "source": [
    "Train on optimal hyperparameters"
   ]
  },
  {
   "cell_type": "code",
   "execution_count": 50,
   "metadata": {},
   "outputs": [],
   "source": [
    "rf = RandomForestClassifier(random_state=0, criterion=criterion, max_depth=max_depth, max_features=max_features, n_estimators = n_estimators).fit(X_train, y_train.ravel())"
   ]
  },
  {
   "cell_type": "markdown",
   "metadata": {},
   "source": [
    "Get predictions and probabilities on test set"
   ]
  },
  {
   "cell_type": "code",
   "execution_count": 51,
   "metadata": {},
   "outputs": [],
   "source": [
    "rf_pred = rf.predict(X_test)\n",
    "rf_proba = rf.predict_proba(X_test)"
   ]
  },
  {
   "cell_type": "markdown",
   "metadata": {},
   "source": [
    "Performance metrics"
   ]
  },
  {
   "cell_type": "code",
   "execution_count": 68,
   "metadata": {
    "scrolled": true
   },
   "outputs": [
    {
     "name": "stdout",
     "output_type": "stream",
     "text": [
      "Random Forest :\n",
      "\n",
      "Confusion matrix:\n",
      " [[236   8]\n",
      " [  9 252]] \n",
      "\n",
      "TN:  236  FP:  8  FN:  9  TP:  252\n",
      "Accuracy: 0.9663366336633663\n",
      "ROC AUC=0.9910\n",
      "Precision on (Landslide = 0) = 0.9633 \n",
      "Recall on (Landslide = 0) = 0.9672 \n",
      "F1 on (Landslide = 0) = 0.9652\n",
      "Precision on (Landslide = 1) = 0.9692 \n",
      "Recall on (Landslide = 1) = 0.9655 \n",
      "F1 on (Landslide = 1) = 0.9674 \n"
     ]
    }
   ],
   "source": [
    "rf_conf_mat = confusion_matrix(y_test, rf_pred)\n",
    "rf_acc = accuracy_score(y_test, rf_pred)\n",
    "rf_roc_auc = roc_auc_score(y_test, rf_proba[:,1])\n",
    "\n",
    "rf_fpr, rf_tpr, _ = roc_curve(y_test, rf_proba[:,1])\n",
    "rf_precision, rf_recall, _ = precision_recall_curve(y_test, rf_proba[:,1])\n",
    "\n",
    "rf_cls_precision, rf_cls_recall, rf_cls_f1, _ = precision_recall_fscore_support(y_test, rf_pred, average=None, labels=[0,1])\n",
    "\n",
    "print('Random Forest :')\n",
    "print('\\nConfusion matrix:\\n',rf_conf_mat,'\\n')\n",
    "tn, fp, fn, tp = rf_conf_mat.ravel()\n",
    "print('TN: ', tn,' FP: ', fp,' FN: ', fn,' TP: ', tp)\n",
    "print('Accuracy:',rf_acc)\n",
    "print('ROC AUC=%.4f' % (rf_roc_auc))\n",
    "print('Precision on (Landslide = 0) = %.4f ' % (rf_cls_precision[0]))\n",
    "print('Recall on (Landslide = 0) = %.4f ' % (rf_cls_recall[0]))\n",
    "print('F1 on (Landslide = 0) = %.4f' % (rf_cls_f1[0]))\n",
    "print('Precision on (Landslide = 1) = %.4f ' % (rf_cls_precision[1]))\n",
    "print('Recall on (Landslide = 1) = %.4f ' % (rf_cls_recall[1]))\n",
    "print('F1 on (Landslide = 1) = %.4f ' % (rf_cls_f1[1]))"
   ]
  },
  {
   "cell_type": "markdown",
   "metadata": {},
   "source": [
    "#### Export trained and tested models"
   ]
  },
  {
   "cell_type": "code",
   "execution_count": 53,
   "metadata": {},
   "outputs": [
    {
     "data": {
      "text/plain": [
       "['../models/rf.pkl']"
      ]
     },
     "execution_count": 53,
     "metadata": {},
     "output_type": "execute_result"
    }
   ],
   "source": [
    "import joblib\n",
    "\n",
    "joblib.dump(knn, os.path.join('..','models','knn.pkl'), compress=9)\n",
    "joblib.dump(lr, os.path.join('..','models','lr.pkl'), compress=9)\n",
    "joblib.dump(svm, os.path.join('..','models','svm.pkl'), compress=9)\n",
    "joblib.dump(mlp, os.path.join('..','models','mlp.pkl'), compress=9)\n",
    "joblib.dump(dt, os.path.join('..','models','dt.pkl'), compress=9)\n",
    "joblib.dump(rf, os.path.join('..','models','rf.pkl'), compress=9)"
   ]
  },
  {
   "cell_type": "markdown",
   "metadata": {},
   "source": [
    "#### Export performance metrics of models"
   ]
  },
  {
   "cell_type": "code",
   "execution_count": 54,
   "metadata": {},
   "outputs": [],
   "source": [
    "perf_metr = pd.DataFrame(index = ['K Nearest Neighbors',\n",
    "                        'Logistic Regression',\n",
    "                        'Support Vector Machine',\n",
    "                        'Multi Layer Perceptron',\n",
    "                        'Decision Tree',\n",
    "                        'Random Forest',\n",
    "                       ],\n",
    "             columns = ['Accuracy', \n",
    "                        'ROC AUC', \n",
    "                        'Precision on Landlside=0', \n",
    "                        'Recall on Landlside=0', \n",
    "                        'F1-score on Landlside=0', \n",
    "                        'Precision on Landlside=1', \n",
    "                        'Recall on Landlside=1', \n",
    "                        'F1-score on Landlside=1']\n",
    "            )"
   ]
  },
  {
   "cell_type": "code",
   "execution_count": 55,
   "metadata": {},
   "outputs": [],
   "source": [
    "knn_perf_metr = pd.Series([knn_acc, knn_roc_auc, knn_cls_precision[0], knn_cls_recall[0], knn_cls_f1[0], knn_cls_precision[0],knn_cls_recall[0], knn_cls_f1[0]])\n",
    "lr_perf_metr = pd.Series([lr_acc, lr_roc_auc, lr_cls_precision[0], lr_cls_recall[0], lr_cls_f1[0], lr_cls_precision[0],lr_cls_recall[0], lr_cls_f1[0]])\n",
    "svm_perf_metr = pd.Series([svm_acc, svm_roc_auc, svm_cls_precision[0], svm_cls_recall[0], svm_cls_f1[0], svm_cls_precision[0],svm_cls_recall[0], svm_cls_f1[0]])\n",
    "mlp_perf_metr = pd.Series([mlp_acc, mlp_roc_auc, mlp_cls_precision[0], mlp_cls_recall[0], mlp_cls_f1[0], mlp_cls_precision[0],mlp_cls_recall[0], mlp_cls_f1[0]])\n",
    "dt_perf_metr = pd.Series([dt_acc, dt_roc_auc, dt_cls_precision[0], dt_cls_recall[0], dt_cls_f1[0], dt_cls_precision[0],dt_cls_recall[0], dt_cls_f1[0]])\n",
    "rf_perf_metr = pd.Series([rf_acc, rf_roc_auc, rf_cls_precision[0], rf_cls_recall[0], rf_cls_f1[0], rf_cls_precision[0],rf_cls_recall[0], rf_cls_f1[0]])"
   ]
  },
  {
   "cell_type": "code",
   "execution_count": 56,
   "metadata": {},
   "outputs": [],
   "source": [
    "perf_metr.loc['K Nearest Neighbors',:] = knn_perf_metr.values\n",
    "perf_metr.loc['Logistic Regression',:] = lr_perf_metr.values\n",
    "perf_metr.loc[ 'Support Vector Machine',:] = svm_perf_metr.values\n",
    "perf_metr.loc['Multi Layer Perceptron',:] = mlp_perf_metr.values\n",
    "perf_metr.loc['Decision Tree',:] = dt_perf_metr.values\n",
    "perf_metr.loc['Random Forest',:] = rf_perf_metr.values"
   ]
  },
  {
   "cell_type": "code",
   "execution_count": 57,
   "metadata": {},
   "outputs": [],
   "source": [
    "perf_metr = perf_metr.astype(float).round(4)"
   ]
  },
  {
   "cell_type": "code",
   "execution_count": 58,
   "metadata": {},
   "outputs": [
    {
     "data": {
      "text/html": [
       "<div>\n",
       "<style scoped>\n",
       "    .dataframe tbody tr th:only-of-type {\n",
       "        vertical-align: middle;\n",
       "    }\n",
       "\n",
       "    .dataframe tbody tr th {\n",
       "        vertical-align: top;\n",
       "    }\n",
       "\n",
       "    .dataframe thead th {\n",
       "        text-align: right;\n",
       "    }\n",
       "</style>\n",
       "<table border=\"1\" class=\"dataframe\">\n",
       "  <thead>\n",
       "    <tr style=\"text-align: right;\">\n",
       "      <th></th>\n",
       "      <th>Accuracy</th>\n",
       "      <th>ROC AUC</th>\n",
       "      <th>Precision on Landlside=0</th>\n",
       "      <th>Recall on Landlside=0</th>\n",
       "      <th>F1-score on Landlside=0</th>\n",
       "      <th>Precision on Landlside=1</th>\n",
       "      <th>Recall on Landlside=1</th>\n",
       "      <th>F1-score on Landlside=1</th>\n",
       "    </tr>\n",
       "  </thead>\n",
       "  <tbody>\n",
       "    <tr>\n",
       "      <th>K Nearest Neighbors</th>\n",
       "      <td>0.9069</td>\n",
       "      <td>0.9721</td>\n",
       "      <td>0.9227</td>\n",
       "      <td>0.8811</td>\n",
       "      <td>0.9015</td>\n",
       "      <td>0.9227</td>\n",
       "      <td>0.8811</td>\n",
       "      <td>0.9015</td>\n",
       "    </tr>\n",
       "    <tr>\n",
       "      <th>Logistic Regression</th>\n",
       "      <td>0.9267</td>\n",
       "      <td>0.9678</td>\n",
       "      <td>0.9224</td>\n",
       "      <td>0.9262</td>\n",
       "      <td>0.9243</td>\n",
       "      <td>0.9224</td>\n",
       "      <td>0.9262</td>\n",
       "      <td>0.9243</td>\n",
       "    </tr>\n",
       "    <tr>\n",
       "      <th>Support Vector Machine</th>\n",
       "      <td>0.9406</td>\n",
       "      <td>0.9809</td>\n",
       "      <td>0.9385</td>\n",
       "      <td>0.9385</td>\n",
       "      <td>0.9385</td>\n",
       "      <td>0.9385</td>\n",
       "      <td>0.9385</td>\n",
       "      <td>0.9385</td>\n",
       "    </tr>\n",
       "    <tr>\n",
       "      <th>Multi Layer Perceptron</th>\n",
       "      <td>0.9545</td>\n",
       "      <td>0.9862</td>\n",
       "      <td>0.9547</td>\n",
       "      <td>0.9508</td>\n",
       "      <td>0.9528</td>\n",
       "      <td>0.9547</td>\n",
       "      <td>0.9508</td>\n",
       "      <td>0.9528</td>\n",
       "    </tr>\n",
       "    <tr>\n",
       "      <th>Decision Tree</th>\n",
       "      <td>0.8594</td>\n",
       "      <td>0.8533</td>\n",
       "      <td>0.8474</td>\n",
       "      <td>0.8648</td>\n",
       "      <td>0.8560</td>\n",
       "      <td>0.8474</td>\n",
       "      <td>0.8648</td>\n",
       "      <td>0.8560</td>\n",
       "    </tr>\n",
       "    <tr>\n",
       "      <th>Random Forest</th>\n",
       "      <td>0.9663</td>\n",
       "      <td>0.9910</td>\n",
       "      <td>0.9633</td>\n",
       "      <td>0.9672</td>\n",
       "      <td>0.9652</td>\n",
       "      <td>0.9633</td>\n",
       "      <td>0.9672</td>\n",
       "      <td>0.9652</td>\n",
       "    </tr>\n",
       "  </tbody>\n",
       "</table>\n",
       "</div>"
      ],
      "text/plain": [
       "                        Accuracy  ROC AUC  Precision on Landlside=0  \\\n",
       "K Nearest Neighbors       0.9069   0.9721                    0.9227   \n",
       "Logistic Regression       0.9267   0.9678                    0.9224   \n",
       "Support Vector Machine    0.9406   0.9809                    0.9385   \n",
       "Multi Layer Perceptron    0.9545   0.9862                    0.9547   \n",
       "Decision Tree             0.8594   0.8533                    0.8474   \n",
       "Random Forest             0.9663   0.9910                    0.9633   \n",
       "\n",
       "                        Recall on Landlside=0  F1-score on Landlside=0  \\\n",
       "K Nearest Neighbors                    0.8811                   0.9015   \n",
       "Logistic Regression                    0.9262                   0.9243   \n",
       "Support Vector Machine                 0.9385                   0.9385   \n",
       "Multi Layer Perceptron                 0.9508                   0.9528   \n",
       "Decision Tree                          0.8648                   0.8560   \n",
       "Random Forest                          0.9672                   0.9652   \n",
       "\n",
       "                        Precision on Landlside=1  Recall on Landlside=1  \\\n",
       "K Nearest Neighbors                       0.9227                 0.8811   \n",
       "Logistic Regression                       0.9224                 0.9262   \n",
       "Support Vector Machine                    0.9385                 0.9385   \n",
       "Multi Layer Perceptron                    0.9547                 0.9508   \n",
       "Decision Tree                             0.8474                 0.8648   \n",
       "Random Forest                             0.9633                 0.9672   \n",
       "\n",
       "                        F1-score on Landlside=1  \n",
       "K Nearest Neighbors                      0.9015  \n",
       "Logistic Regression                      0.9243  \n",
       "Support Vector Machine                   0.9385  \n",
       "Multi Layer Perceptron                   0.9528  \n",
       "Decision Tree                            0.8560  \n",
       "Random Forest                            0.9652  "
      ]
     },
     "execution_count": 58,
     "metadata": {},
     "output_type": "execute_result"
    }
   ],
   "source": [
    "perf_metr"
   ]
  },
  {
   "cell_type": "code",
   "execution_count": 59,
   "metadata": {},
   "outputs": [],
   "source": [
    "perf_metr.to_csv(os.path.join('..','data','performance_metrics.csv'))"
   ]
  },
  {
   "cell_type": "markdown",
   "metadata": {},
   "source": [
    "#### ROC-AUC curves"
   ]
  },
  {
   "cell_type": "code",
   "execution_count": null,
   "metadata": {},
   "outputs": [],
   "source": []
  },
  {
   "cell_type": "code",
   "execution_count": 74,
   "metadata": {},
   "outputs": [
    {
     "data": {
      "image/png": "[encoded data removed]",
      "text/plain": [
       "<Figure size 720x720 with 1 Axes>"
      ]
     },
     "metadata": {
      "needs_background": "light"
     },
     "output_type": "display_data"
    }
   ],
   "source": [
    "# calculate roc curves\n",
    "\n",
    "lr_fpr, lr_tpr, _ = roc_curve(y_test, lr_proba[:,1])\n",
    "svm_fpr, svm_tpr, _ = roc_curve(y_test, svm_proba[:,1])\n",
    "mlp_fpr, mlp_tpr, _ = roc_curve(y_test, mlp_proba[:,1])\n",
    "rf_fpr, rf_tpr, _ = roc_curve(y_test, rf_proba[:,1])\n",
    "\n",
    "fig, ax = plt.subplots(1, figsize=(10,10))\n",
    "\n",
    "# fig.figure(figsize=(10,10))\n",
    "\n",
    "# plot the roc curve for the models\n",
    "# pyplot.plot(ns_fpr, ns_tpr, linestyle='--', label='No Skill')\n",
    "ax.plot(svm_fpr, svm_tpr,  color = 'blue', label='Support Vector Machine (AUC: ' + str(np.round(svm_roc_auc,4))+')')\n",
    "ax.plot(lr_fpr, lr_tpr,  color = 'orange', label='Logistic Regression (AUC: ' + str(np.round(lr_roc_auc,4))+')')\n",
    "ax.plot(mlp_fpr, mlp_tpr, color = 'green', label='Multi Layer Perceptron (AUC: ' + str(np.round(mlp_roc_auc,4))+')')\n",
    "ax.plot(knn_fpr, knn_tpr,  color = 'purple',label='K Nearest Neighbor (AUC: ' + str(np.round(knn_roc_auc,4))+')')\n",
    "# ax.plot(dt_fpr, dt_tpr,  color = 'yellow', label='Decision Tree (AUC: ' + str(np.round(dt_roc_auc,4))+')')\n",
    "ax.plot(rf_fpr, rf_tpr,  color = 'red', label='Random Forest (AUC: ' + str(np.round(rf_roc_auc,4))+')')\n",
    "ax.plot([0,1],[0,1], color='grey', linestyle='dashed')\n",
    "\n",
    "# axis labels\n",
    "ax.set_xlabel('False Positive Rate', fontsize=15)\n",
    "ax.set_ylabel('True Positive Rate', fontsize=15)\n",
    "\n",
    "# show the legend\n",
    "# plt.legend()\n",
    "\n",
    "handles,labels = ax.get_legend_handles_labels()\n",
    "\n",
    "\n",
    "handles = [handles[4], handles[2], handles[0], handles[3], handles[1]]\n",
    "labels = [labels[4], labels[2], labels[0], labels[3], labels[1]]\n",
    "\n",
    "ax.grid(linestyle='dashed')\n",
    "ax.legend(handles,labels, fontsize=14)\n",
    "\n",
    "plt.savefig(os.path.join('..','figures','roc-auc.png'), dpi = 500)\n",
    "# show the plot\n",
    "plt.show()\n"
   ]
  },
  {
   "cell_type": "markdown",
   "metadata": {},
   "source": [
    "#### Decision Tree for visualization\n",
    "(Graphviz needs to be installed for visualizing decision trees)"
   ]
  },
  {
   "cell_type": "code",
   "execution_count": 61,
   "metadata": {},
   "outputs": [],
   "source": [
    "# Stan\n",
    "features = data.columns[:-1]\n",
    "\n",
    "# Separating out the features\n",
    "X = data.loc[:, features].values\n",
    "\n",
    "# Separating out the target\n",
    "y = data.loc[:,['Landslide']].values\n"
   ]
  },
  {
   "cell_type": "code",
   "execution_count": 62,
   "metadata": {},
   "outputs": [
    {
     "data": {
      "text/plain": [
       "array([[1.93045197e+01, 6.70820389e+01, 3.81837677e+02, ...,\n",
       "        1.00000000e+00, 0.00000000e+00, 0.00000000e+00],\n",
       "       [1.95264702e+01, 6.70820389e+01, 3.66196655e+02, ...,\n",
       "        1.00000000e+00, 0.00000000e+00, 0.00000000e+00],\n",
       "       [1.23091631e+01, 2.40000000e+02, 5.40832703e+02, ...,\n",
       "        1.00000000e+00, 0.00000000e+00, 0.00000000e+00],\n",
       "       ...,\n",
       "       [2.62284990e+00, 6.00000000e+01, 1.14236597e+03, ...,\n",
       "        0.00000000e+00, 0.00000000e+00, 1.00000000e+00],\n",
       "       [3.83245700e-01, 3.31360840e+02, 2.54434668e+03, ...,\n",
       "        1.00000000e+00, 0.00000000e+00, 0.00000000e+00],\n",
       "       [2.30344820e+00, 2.10000000e+02, 1.17652026e+03, ...,\n",
       "        1.00000000e+00, 0.00000000e+00, 0.00000000e+00]])"
      ]
     },
     "execution_count": 62,
     "metadata": {},
     "output_type": "execute_result"
    }
   ],
   "source": [
    "X"
   ]
  },
  {
   "cell_type": "code",
   "execution_count": 63,
   "metadata": {},
   "outputs": [
    {
     "data": {
      "text/plain": [
       "array([[1],\n",
       "       [1],\n",
       "       [1],\n",
       "       ...,\n",
       "       [0],\n",
       "       [0],\n",
       "       [0]])"
      ]
     },
     "execution_count": 63,
     "metadata": {},
     "output_type": "execute_result"
    }
   ],
   "source": [
    "y"
   ]
  },
  {
   "cell_type": "code",
   "execution_count": 64,
   "metadata": {},
   "outputs": [],
   "source": [
    "from sklearn.model_selection import train_test_split\n",
    "\n",
    "X_train, X_test, y_train, y_test = train_test_split(X, y, test_size=0.40, random_state=0)"
   ]
  },
  {
   "cell_type": "markdown",
   "metadata": {},
   "source": [
    "Hyperparameter optimization"
   ]
  },
  {
   "cell_type": "code",
   "execution_count": 65,
   "metadata": {},
   "outputs": [
    {
     "data": {
      "text/plain": [
       "array([10, 12, 14, 16, 18, 20, 22, 24, 26, 28])"
      ]
     },
     "execution_count": 65,
     "metadata": {},
     "output_type": "execute_result"
    }
   ],
   "source": [
    "np.arange(10,30,2)"
   ]
  },
  {
   "cell_type": "code",
   "execution_count": 66,
   "metadata": {},
   "outputs": [
    {
     "name": "stdout",
     "output_type": "stream",
     "text": [
      "Best score: 0.9008191007319624\n",
      "Best hyperparameters: {'criterion': 'entropy', 'max_depth': 13, 'max_features': 'auto'}\n"
     ]
    }
   ],
   "source": [
    "model = DecisionTreeClassifier(random_state=0)\n",
    "\n",
    "param_grid = { \n",
    "    'max_features': ['auto', 'sqrt', 'log2'],\n",
    "   'max_depth' : np.arange(1,50),\n",
    "    'criterion' :['gini', 'entropy']\n",
    "}\n",
    "\n",
    "grid = GridSearchCV(estimator=model, param_grid=param_grid)\n",
    "\n",
    "grid.fit(X_train, y_train.ravel())\n",
    "\n",
    "criterion = grid.best_estimator_.criterion\n",
    "max_depth = grid.best_estimator_.max_depth\n",
    "max_features = grid.best_estimator_.max_features\n",
    "\n",
    "# summarize the results of the grid search\n",
    "print('Best score:', grid.best_score_)\n",
    "print('Best hyperparameters:',grid.best_params_)"
   ]
  },
  {
   "cell_type": "markdown",
   "metadata": {},
   "source": [
    "Train on optimal hyperparameters"
   ]
  },
  {
   "cell_type": "code",
   "execution_count": 67,
   "metadata": {},
   "outputs": [],
   "source": [
    "dt_viz = DecisionTreeClassifier(random_state=0, criterion = criterion, max_depth=max_depth, max_features=max_features).fit(X_train, y_train.ravel())"
   ]
  },
  {
   "cell_type": "markdown",
   "metadata": {},
   "source": [
    "Get predictions and probabilities on test set"
   ]
  },
  {
   "cell_type": "code",
   "execution_count": 68,
   "metadata": {},
   "outputs": [],
   "source": [
    "dt_viz_pred = dt_viz.predict(X_test)\n",
    "dt_viz_proba = dt_viz.predict_proba(X_test)"
   ]
  },
  {
   "cell_type": "markdown",
   "metadata": {},
   "source": [
    "Performance metrics"
   ]
  },
  {
   "cell_type": "code",
   "execution_count": 69,
   "metadata": {},
   "outputs": [
    {
     "name": "stdout",
     "output_type": "stream",
     "text": [
      "Decision Tree for Visualization:\n",
      "\n",
      "Confusion matrix:\n",
      " [[225  19]\n",
      " [ 25 236]] \n",
      "\n",
      "Accuracy: 0.9128712871287129\n",
      "ROC AUC=0.9131\n",
      "Precision on (Landslide = 0) = 0.9000 \n",
      "Recall on (Landslide = 0) = 0.9221 \n",
      "F1 on (Landslide = 0) = 0.9109\n",
      "Precision on (Landslide = 1) = 0.9255 \n",
      "Recall on (Landslide = 1) = 0.9042 \n",
      "F1 on (Landslide = 1) = 0.9147 \n"
     ]
    }
   ],
   "source": [
    "dt_viz_conf_mat = confusion_matrix(y_test, dt_viz_pred)\n",
    "dt_viz_acc = accuracy_score(y_test, dt_viz_pred)\n",
    "dt_viz_roc_auc = roc_auc_score(y_test, dt_viz_proba[:,1])\n",
    "\n",
    "dt_viz_fpr, dt_viz_tpr, _ = roc_curve(y_test, dt_viz_proba[:,1])\n",
    "dt_viz_precision, dt_viz_recall, _ = precision_recall_curve(y_test, dt_viz_proba[:,1])\n",
    "\n",
    "dt_viz_cls_precision, dt_viz_cls_recall, dt_viz_cls_f1, _ = precision_recall_fscore_support(y_test, dt_viz_pred, average=None, labels=[0,1])\n",
    "\n",
    "print('Decision Tree for Visualization:')\n",
    "print('\\nConfusion matrix:\\n',dt_viz_conf_mat,'\\n')\n",
    "print('Accuracy:',dt_viz_acc)\n",
    "print('ROC AUC=%.4f' % (dt_viz_roc_auc))\n",
    "print('Precision on (Landslide = 0) = %.4f ' % (dt_viz_cls_precision[0]))\n",
    "print('Recall on (Landslide = 0) = %.4f ' % (dt_viz_cls_recall[0]))\n",
    "print('F1 on (Landslide = 0) = %.4f' % (dt_viz_cls_f1[0]))\n",
    "print('Precision on (Landslide = 1) = %.4f ' % (dt_viz_cls_precision[1]))\n",
    "print('Recall on (Landslide = 1) = %.4f ' % (dt_viz_cls_recall[1]))\n",
    "print('F1 on (Landslide = 1) = %.4f ' % (dt_viz_cls_f1[1]))"
   ]
  },
  {
   "cell_type": "code",
   "execution_count": 70,
   "metadata": {},
   "outputs": [],
   "source": [
    "from sklearn.tree import export_graphviz\n",
    "# from graphviz import Source\n",
    "# import pydot"
   ]
  },
  {
   "cell_type": "code",
   "execution_count": 71,
   "metadata": {},
   "outputs": [],
   "source": [
    "\n",
    "export_graphviz(dt_viz, out_file=os.path.join('..','models','tree_viz.dot'), \n",
    "                feature_names = features,\n",
    "#                 class_names = ['Landslide',]iris.target_names,\n",
    "                rounded = True, proportion = False, \n",
    "                precision = 2, filled = True)\n",
    "\n"
   ]
  },
  {
   "cell_type": "code",
   "execution_count": 72,
   "metadata": {},
   "outputs": [
    {
     "ename": "FileNotFoundError",
     "evalue": "[Errno 2] No such file or directory: 'dot': 'dot'",
     "output_type": "error",
     "traceback": [
      "\u001b[0;31m---------------------------------------------------------------------------\u001b[0m",
      "\u001b[0;31mFileNotFoundError\u001b[0m                         Traceback (most recent call last)",
      "\u001b[0;32m<ipython-input-72-bb4bd06e5307>\u001b[0m in \u001b[0;36m<module>\u001b[0;34m\u001b[0m\n\u001b[1;32m      1\u001b[0m \u001b[0;31m# Convert to png using system command (requires Graphviz) if graphviz not install use tree.dot file to generate png from convertio.co\u001b[0m\u001b[0;34m\u001b[0m\u001b[0;34m\u001b[0m\u001b[0;34m\u001b[0m\u001b[0m\n\u001b[1;32m      2\u001b[0m \u001b[0;32mfrom\u001b[0m \u001b[0msubprocess\u001b[0m \u001b[0;32mimport\u001b[0m \u001b[0mcall\u001b[0m\u001b[0;34m\u001b[0m\u001b[0;34m\u001b[0m\u001b[0m\n\u001b[0;32m----> 3\u001b[0;31m \u001b[0mcall\u001b[0m\u001b[0;34m(\u001b[0m\u001b[0;34m[\u001b[0m\u001b[0;34m'dot'\u001b[0m\u001b[0;34m,\u001b[0m \u001b[0;34m'-Tpng'\u001b[0m\u001b[0;34m,\u001b[0m \u001b[0;34m'../models/tree_viz.dot'\u001b[0m\u001b[0;34m,\u001b[0m \u001b[0;34m'-o'\u001b[0m\u001b[0;34m,\u001b[0m \u001b[0;34m'../figures/tree_viz.png'\u001b[0m\u001b[0;34m,\u001b[0m \u001b[0;34m'-Gdpi=300'\u001b[0m\u001b[0;34m]\u001b[0m\u001b[0;34m)\u001b[0m\u001b[0;34m\u001b[0m\u001b[0;34m\u001b[0m\u001b[0m\n\u001b[0m",
      "\u001b[0;32m~/anaconda3/lib/python3.7/subprocess.py\u001b[0m in \u001b[0;36mcall\u001b[0;34m(timeout, *popenargs, **kwargs)\u001b[0m\n\u001b[1;32m    337\u001b[0m     \u001b[0mretcode\u001b[0m \u001b[0;34m=\u001b[0m \u001b[0mcall\u001b[0m\u001b[0;34m(\u001b[0m\u001b[0;34m[\u001b[0m\u001b[0;34m\"ls\"\u001b[0m\u001b[0;34m,\u001b[0m \u001b[0;34m\"-l\"\u001b[0m\u001b[0;34m]\u001b[0m\u001b[0;34m)\u001b[0m\u001b[0;34m\u001b[0m\u001b[0;34m\u001b[0m\u001b[0m\n\u001b[1;32m    338\u001b[0m     \"\"\"\n\u001b[0;32m--> 339\u001b[0;31m     \u001b[0;32mwith\u001b[0m \u001b[0mPopen\u001b[0m\u001b[0;34m(\u001b[0m\u001b[0;34m*\u001b[0m\u001b[0mpopenargs\u001b[0m\u001b[0;34m,\u001b[0m \u001b[0;34m**\u001b[0m\u001b[0mkwargs\u001b[0m\u001b[0;34m)\u001b[0m \u001b[0;32mas\u001b[0m \u001b[0mp\u001b[0m\u001b[0;34m:\u001b[0m\u001b[0;34m\u001b[0m\u001b[0;34m\u001b[0m\u001b[0m\n\u001b[0m\u001b[1;32m    340\u001b[0m         \u001b[0;32mtry\u001b[0m\u001b[0;34m:\u001b[0m\u001b[0;34m\u001b[0m\u001b[0;34m\u001b[0m\u001b[0m\n\u001b[1;32m    341\u001b[0m             \u001b[0;32mreturn\u001b[0m \u001b[0mp\u001b[0m\u001b[0;34m.\u001b[0m\u001b[0mwait\u001b[0m\u001b[0;34m(\u001b[0m\u001b[0mtimeout\u001b[0m\u001b[0;34m=\u001b[0m\u001b[0mtimeout\u001b[0m\u001b[0;34m)\u001b[0m\u001b[0;34m\u001b[0m\u001b[0;34m\u001b[0m\u001b[0m\n",
      "\u001b[0;32m~/anaconda3/lib/python3.7/subprocess.py\u001b[0m in \u001b[0;36m__init__\u001b[0;34m(self, args, bufsize, executable, stdin, stdout, stderr, preexec_fn, close_fds, shell, cwd, env, universal_newlines, startupinfo, creationflags, restore_signals, start_new_session, pass_fds, encoding, errors, text)\u001b[0m\n\u001b[1;32m    798\u001b[0m                                 \u001b[0mc2pread\u001b[0m\u001b[0;34m,\u001b[0m \u001b[0mc2pwrite\u001b[0m\u001b[0;34m,\u001b[0m\u001b[0;34m\u001b[0m\u001b[0;34m\u001b[0m\u001b[0m\n\u001b[1;32m    799\u001b[0m                                 \u001b[0merrread\u001b[0m\u001b[0;34m,\u001b[0m \u001b[0merrwrite\u001b[0m\u001b[0;34m,\u001b[0m\u001b[0;34m\u001b[0m\u001b[0;34m\u001b[0m\u001b[0m\n\u001b[0;32m--> 800\u001b[0;31m                                 restore_signals, start_new_session)\n\u001b[0m\u001b[1;32m    801\u001b[0m         \u001b[0;32mexcept\u001b[0m\u001b[0;34m:\u001b[0m\u001b[0;34m\u001b[0m\u001b[0;34m\u001b[0m\u001b[0m\n\u001b[1;32m    802\u001b[0m             \u001b[0;31m# Cleanup if the child failed starting.\u001b[0m\u001b[0;34m\u001b[0m\u001b[0;34m\u001b[0m\u001b[0;34m\u001b[0m\u001b[0m\n",
      "\u001b[0;32m~/anaconda3/lib/python3.7/subprocess.py\u001b[0m in \u001b[0;36m_execute_child\u001b[0;34m(self, args, executable, preexec_fn, close_fds, pass_fds, cwd, env, startupinfo, creationflags, shell, p2cread, p2cwrite, c2pread, c2pwrite, errread, errwrite, restore_signals, start_new_session)\u001b[0m\n\u001b[1;32m   1549\u001b[0m                         \u001b[0;32mif\u001b[0m \u001b[0merrno_num\u001b[0m \u001b[0;34m==\u001b[0m \u001b[0merrno\u001b[0m\u001b[0;34m.\u001b[0m\u001b[0mENOENT\u001b[0m\u001b[0;34m:\u001b[0m\u001b[0;34m\u001b[0m\u001b[0;34m\u001b[0m\u001b[0m\n\u001b[1;32m   1550\u001b[0m                             \u001b[0merr_msg\u001b[0m \u001b[0;34m+=\u001b[0m \u001b[0;34m': '\u001b[0m \u001b[0;34m+\u001b[0m \u001b[0mrepr\u001b[0m\u001b[0;34m(\u001b[0m\u001b[0merr_filename\u001b[0m\u001b[0;34m)\u001b[0m\u001b[0;34m\u001b[0m\u001b[0;34m\u001b[0m\u001b[0m\n\u001b[0;32m-> 1551\u001b[0;31m                     \u001b[0;32mraise\u001b[0m \u001b[0mchild_exception_type\u001b[0m\u001b[0;34m(\u001b[0m\u001b[0merrno_num\u001b[0m\u001b[0;34m,\u001b[0m \u001b[0merr_msg\u001b[0m\u001b[0;34m,\u001b[0m \u001b[0merr_filename\u001b[0m\u001b[0;34m)\u001b[0m\u001b[0;34m\u001b[0m\u001b[0;34m\u001b[0m\u001b[0m\n\u001b[0m\u001b[1;32m   1552\u001b[0m                 \u001b[0;32mraise\u001b[0m \u001b[0mchild_exception_type\u001b[0m\u001b[0;34m(\u001b[0m\u001b[0merr_msg\u001b[0m\u001b[0;34m)\u001b[0m\u001b[0;34m\u001b[0m\u001b[0;34m\u001b[0m\u001b[0m\n\u001b[1;32m   1553\u001b[0m \u001b[0;34m\u001b[0m\u001b[0m\n",
      "\u001b[0;31mFileNotFoundError\u001b[0m: [Errno 2] No such file or directory: 'dot': 'dot'"
     ]
    }
   ],
   "source": [
    "# Convert to png using system command (requires Graphviz) if graphviz not install use tree.dot file to generate png from convertio.co\n",
    "from subprocess import call\n",
    "call(['dot', '-Tpng', '../models/tree_viz.dot', '-o', '../figures/tree_viz.png', '-Gdpi=300'])"
   ]
  },
  {
   "cell_type": "code",
   "execution_count": null,
   "metadata": {},
   "outputs": [],
   "source": []
  },
  {
   "cell_type": "code",
   "execution_count": null,
   "metadata": {},
   "outputs": [],
   "source": []
  },
  {
   "cell_type": "code",
   "execution_count": null,
   "metadata": {},
   "outputs": [],
   "source": []
  }
 ],
 "metadata": {
  "kernelspec": {
   "display_name": "Python 3",
   "language": "python",
   "name": "python3"
  },
  "language_info": {
   "codemirror_mode": {
    "name": "ipython",
    "version": 3
   },
   "file_extension": ".py",
   "mimetype": "text/x-python",
   "name": "python",
   "nbconvert_exporter": "python",
   "pygments_lexer": "ipython3",
   "version": "3.7.6"
  }
 },
 "nbformat": 4,
 "nbformat_minor": 2
}
